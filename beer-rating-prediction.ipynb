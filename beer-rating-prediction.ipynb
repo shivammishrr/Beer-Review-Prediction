{
 "cells": [
  {
   "cell_type": "markdown",
   "id": "92cc9f9d",
   "metadata": {
    "_cell_guid": "b1076dfc-b9ad-4769-8c92-a6c4dae69d19",
    "_uuid": "8f2839f25d086af736a60e9eeb907d3b93b6e0e5",
    "execution": {
     "iopub.execute_input": "2023-10-05T17:19:10.552144Z",
     "iopub.status.busy": "2023-10-05T17:19:10.551730Z",
     "iopub.status.idle": "2023-10-05T17:19:10.557286Z",
     "shell.execute_reply": "2023-10-05T17:19:10.556117Z",
     "shell.execute_reply.started": "2023-10-05T17:19:10.552115Z"
    },
    "papermill": {
     "duration": 0.014742,
     "end_time": "2023-10-05T20:05:34.099438",
     "exception": false,
     "start_time": "2023-10-05T20:05:34.084696",
     "status": "completed"
    },
    "tags": []
   },
   "source": [
    "# <span style=\"font-family:cursive;text-align:center\">⬇️ Import Libraries</span>"
   ]
  },
  {
   "cell_type": "code",
   "execution_count": 1,
   "id": "5acc538c",
   "metadata": {
    "execution": {
     "iopub.execute_input": "2023-10-05T20:05:34.125836Z",
     "iopub.status.busy": "2023-10-05T20:05:34.125251Z",
     "iopub.status.idle": "2023-10-05T20:05:53.561868Z",
     "shell.execute_reply": "2023-10-05T20:05:53.560465Z"
    },
    "papermill": {
     "duration": 19.453344,
     "end_time": "2023-10-05T20:05:53.564991",
     "exception": false,
     "start_time": "2023-10-05T20:05:34.111647",
     "status": "completed"
    },
    "tags": []
   },
   "outputs": [],
   "source": [
    "import os\n",
    "import pickle\n",
    "import numpy as np\n",
    "import pandas as pd\n",
    "import matplotlib.pyplot as plt\n",
    "import seaborn as sns\n",
    "import nltk\n",
    "import spacy\n",
    "\n",
    "from sklearn.model_selection import train_test_split\n",
    "from sklearn.preprocessing import LabelEncoder\n",
    "from sklearn.metrics import mean_squared_error, mean_absolute_error, r2_score\n",
    "from sklearn.ensemble import RandomForestRegressor\n",
    "from sklearn.linear_model import Lasso\n",
    "from xgboost import XGBRegressor\n",
    "from category_encoders import TargetEncoder\n",
    "from sklearn.feature_extraction.text import TfidfVectorizer\n",
    "from keras.preprocessing.text import Tokenizer\n",
    "from keras.utils import pad_sequences\n",
    "from keras.models import Sequential, load_model\n",
    "from keras.layers import Embedding, LSTM, Dense\n",
    "from concurrent.futures import ProcessPoolExecutor"
   ]
  },
  {
   "cell_type": "markdown",
   "id": "1dee39e4",
   "metadata": {
    "papermill": {
     "duration": 0.010352,
     "end_time": "2023-10-05T20:05:53.586573",
     "exception": false,
     "start_time": "2023-10-05T20:05:53.576221",
     "status": "completed"
    },
    "tags": []
   },
   "source": [
    "# <span style=\"font-family:cursive;text-align:center\">⬇️ Import Data</span>"
   ]
  },
  {
   "cell_type": "code",
   "execution_count": 2,
   "id": "4be5b8b0",
   "metadata": {
    "execution": {
     "iopub.execute_input": "2023-10-05T20:05:53.609819Z",
     "iopub.status.busy": "2023-10-05T20:05:53.609059Z",
     "iopub.status.idle": "2023-10-05T20:05:54.755796Z",
     "shell.execute_reply": "2023-10-05T20:05:54.754490Z"
    },
    "papermill": {
     "duration": 1.162238,
     "end_time": "2023-10-05T20:05:54.759348",
     "exception": false,
     "start_time": "2023-10-05T20:05:53.597110",
     "status": "completed"
    },
    "tags": []
   },
   "outputs": [
    {
     "data": {
      "text/html": [
       "<div>\n",
       "<style scoped>\n",
       "    .dataframe tbody tr th:only-of-type {\n",
       "        vertical-align: middle;\n",
       "    }\n",
       "\n",
       "    .dataframe tbody tr th {\n",
       "        vertical-align: top;\n",
       "    }\n",
       "\n",
       "    .dataframe thead th {\n",
       "        text-align: right;\n",
       "    }\n",
       "</style>\n",
       "<table border=\"1\" class=\"dataframe\">\n",
       "  <thead>\n",
       "    <tr style=\"text-align: right;\">\n",
       "      <th></th>\n",
       "      <th>index</th>\n",
       "      <th>beer/ABV</th>\n",
       "      <th>beer/beerId</th>\n",
       "      <th>beer/brewerId</th>\n",
       "      <th>beer/name</th>\n",
       "      <th>beer/style</th>\n",
       "      <th>review/appearance</th>\n",
       "      <th>review/aroma</th>\n",
       "      <th>review/overall</th>\n",
       "      <th>review/palate</th>\n",
       "      <th>review/taste</th>\n",
       "      <th>review/text</th>\n",
       "      <th>review/timeStruct</th>\n",
       "      <th>review/timeUnix</th>\n",
       "      <th>user/ageInSeconds</th>\n",
       "      <th>user/birthdayRaw</th>\n",
       "      <th>user/birthdayUnix</th>\n",
       "      <th>user/gender</th>\n",
       "      <th>user/profileName</th>\n",
       "    </tr>\n",
       "  </thead>\n",
       "  <tbody>\n",
       "    <tr>\n",
       "      <th>0</th>\n",
       "      <td>40163</td>\n",
       "      <td>5.0</td>\n",
       "      <td>46634</td>\n",
       "      <td>14338</td>\n",
       "      <td>Chiostro</td>\n",
       "      <td>Herbed / Spiced Beer</td>\n",
       "      <td>4.0</td>\n",
       "      <td>4.0</td>\n",
       "      <td>4.0</td>\n",
       "      <td>4.0</td>\n",
       "      <td>4.0</td>\n",
       "      <td>Pours a clouded gold with a thin white head. N...</td>\n",
       "      <td>{'min': 38, 'hour': 3, 'mday': 16, 'sec': 10, ...</td>\n",
       "      <td>1229398690</td>\n",
       "      <td>NaN</td>\n",
       "      <td>NaN</td>\n",
       "      <td>NaN</td>\n",
       "      <td>NaN</td>\n",
       "      <td>RblWthACoz</td>\n",
       "    </tr>\n",
       "    <tr>\n",
       "      <th>1</th>\n",
       "      <td>8135</td>\n",
       "      <td>11.0</td>\n",
       "      <td>3003</td>\n",
       "      <td>395</td>\n",
       "      <td>Bearded Pat's Barleywine</td>\n",
       "      <td>American Barleywine</td>\n",
       "      <td>4.0</td>\n",
       "      <td>3.5</td>\n",
       "      <td>3.5</td>\n",
       "      <td>3.5</td>\n",
       "      <td>3.0</td>\n",
       "      <td>12oz bottle into 8oz snifter.\\t\\tDeep ruby red...</td>\n",
       "      <td>{'min': 38, 'hour': 23, 'mday': 8, 'sec': 58, ...</td>\n",
       "      <td>1218238738</td>\n",
       "      <td>NaN</td>\n",
       "      <td>NaN</td>\n",
       "      <td>NaN</td>\n",
       "      <td>NaN</td>\n",
       "      <td>BeerSox</td>\n",
       "    </tr>\n",
       "    <tr>\n",
       "      <th>2</th>\n",
       "      <td>10529</td>\n",
       "      <td>4.7</td>\n",
       "      <td>961</td>\n",
       "      <td>365</td>\n",
       "      <td>Naughty Nellie's Ale</td>\n",
       "      <td>American Pale Ale (APA)</td>\n",
       "      <td>3.5</td>\n",
       "      <td>4.0</td>\n",
       "      <td>3.5</td>\n",
       "      <td>3.5</td>\n",
       "      <td>3.5</td>\n",
       "      <td>First enjoyed at the brewpub about 2 years ago...</td>\n",
       "      <td>{'min': 7, 'hour': 18, 'mday': 26, 'sec': 2, '...</td>\n",
       "      <td>1101492422</td>\n",
       "      <td>NaN</td>\n",
       "      <td>NaN</td>\n",
       "      <td>NaN</td>\n",
       "      <td>Male</td>\n",
       "      <td>mschofield</td>\n",
       "    </tr>\n",
       "    <tr>\n",
       "      <th>3</th>\n",
       "      <td>44610</td>\n",
       "      <td>4.4</td>\n",
       "      <td>429</td>\n",
       "      <td>1</td>\n",
       "      <td>Pilsner Urquell</td>\n",
       "      <td>Czech Pilsener</td>\n",
       "      <td>3.0</td>\n",
       "      <td>3.0</td>\n",
       "      <td>2.5</td>\n",
       "      <td>3.0</td>\n",
       "      <td>3.0</td>\n",
       "      <td>First thing I noticed after pouring from green...</td>\n",
       "      <td>{'min': 7, 'hour': 1, 'mday': 20, 'sec': 5, 'y...</td>\n",
       "      <td>1308532025</td>\n",
       "      <td>1.209827e+09</td>\n",
       "      <td>Aug 10, 1976</td>\n",
       "      <td>208508400.0</td>\n",
       "      <td>Male</td>\n",
       "      <td>molegar76</td>\n",
       "    </tr>\n",
       "    <tr>\n",
       "      <th>4</th>\n",
       "      <td>37062</td>\n",
       "      <td>4.4</td>\n",
       "      <td>4904</td>\n",
       "      <td>1417</td>\n",
       "      <td>Black Sheep Ale (Special)</td>\n",
       "      <td>English Pale Ale</td>\n",
       "      <td>4.0</td>\n",
       "      <td>3.0</td>\n",
       "      <td>3.0</td>\n",
       "      <td>3.5</td>\n",
       "      <td>2.5</td>\n",
       "      <td>A: pours an amber with a one finger head but o...</td>\n",
       "      <td>{'min': 51, 'hour': 6, 'mday': 12, 'sec': 48, ...</td>\n",
       "      <td>1299912708</td>\n",
       "      <td>NaN</td>\n",
       "      <td>NaN</td>\n",
       "      <td>NaN</td>\n",
       "      <td>NaN</td>\n",
       "      <td>Brewbro000</td>\n",
       "    </tr>\n",
       "  </tbody>\n",
       "</table>\n",
       "</div>"
      ],
      "text/plain": [
       "   index  beer/ABV  beer/beerId  beer/brewerId                  beer/name  \\\n",
       "0  40163       5.0        46634          14338                   Chiostro   \n",
       "1   8135      11.0         3003            395   Bearded Pat's Barleywine   \n",
       "2  10529       4.7          961            365       Naughty Nellie's Ale   \n",
       "3  44610       4.4          429              1            Pilsner Urquell   \n",
       "4  37062       4.4         4904           1417  Black Sheep Ale (Special)   \n",
       "\n",
       "                beer/style  review/appearance  review/aroma  review/overall  \\\n",
       "0     Herbed / Spiced Beer                4.0           4.0             4.0   \n",
       "1      American Barleywine                4.0           3.5             3.5   \n",
       "2  American Pale Ale (APA)                3.5           4.0             3.5   \n",
       "3           Czech Pilsener                3.0           3.0             2.5   \n",
       "4         English Pale Ale                4.0           3.0             3.0   \n",
       "\n",
       "   review/palate  review/taste  \\\n",
       "0            4.0           4.0   \n",
       "1            3.5           3.0   \n",
       "2            3.5           3.5   \n",
       "3            3.0           3.0   \n",
       "4            3.5           2.5   \n",
       "\n",
       "                                         review/text  \\\n",
       "0  Pours a clouded gold with a thin white head. N...   \n",
       "1  12oz bottle into 8oz snifter.\\t\\tDeep ruby red...   \n",
       "2  First enjoyed at the brewpub about 2 years ago...   \n",
       "3  First thing I noticed after pouring from green...   \n",
       "4  A: pours an amber with a one finger head but o...   \n",
       "\n",
       "                                   review/timeStruct  review/timeUnix  \\\n",
       "0  {'min': 38, 'hour': 3, 'mday': 16, 'sec': 10, ...       1229398690   \n",
       "1  {'min': 38, 'hour': 23, 'mday': 8, 'sec': 58, ...       1218238738   \n",
       "2  {'min': 7, 'hour': 18, 'mday': 26, 'sec': 2, '...       1101492422   \n",
       "3  {'min': 7, 'hour': 1, 'mday': 20, 'sec': 5, 'y...       1308532025   \n",
       "4  {'min': 51, 'hour': 6, 'mday': 12, 'sec': 48, ...       1299912708   \n",
       "\n",
       "   user/ageInSeconds user/birthdayRaw  user/birthdayUnix user/gender  \\\n",
       "0                NaN              NaN                NaN         NaN   \n",
       "1                NaN              NaN                NaN         NaN   \n",
       "2                NaN              NaN                NaN        Male   \n",
       "3       1.209827e+09     Aug 10, 1976        208508400.0        Male   \n",
       "4                NaN              NaN                NaN         NaN   \n",
       "\n",
       "  user/profileName  \n",
       "0       RblWthACoz  \n",
       "1          BeerSox  \n",
       "2       mschofield  \n",
       "3        molegar76  \n",
       "4       Brewbro000  "
      ]
     },
     "execution_count": 2,
     "metadata": {},
     "output_type": "execute_result"
    }
   ],
   "source": [
    "# Load dataset\n",
    "\n",
    "df = pd.read_csv('/kaggle/input/beers/beer_train.csv')\n",
    "df.head(5)"
   ]
  },
  {
   "cell_type": "markdown",
   "id": "ab9d4712",
   "metadata": {
    "papermill": {
     "duration": 0.010655,
     "end_time": "2023-10-05T20:05:54.783118",
     "exception": false,
     "start_time": "2023-10-05T20:05:54.772463",
     "status": "completed"
    },
    "tags": []
   },
   "source": [
    "# <span style=\"font-family:cursive;text-align:center\">📊 Exploratory Data Analysis</span>"
   ]
  },
  {
   "cell_type": "code",
   "execution_count": 3,
   "id": "4ea3edfb",
   "metadata": {
    "execution": {
     "iopub.execute_input": "2023-10-05T20:05:54.807695Z",
     "iopub.status.busy": "2023-10-05T20:05:54.807336Z",
     "iopub.status.idle": "2023-10-05T20:05:54.817016Z",
     "shell.execute_reply": "2023-10-05T20:05:54.815621Z"
    },
    "papermill": {
     "duration": 0.02516,
     "end_time": "2023-10-05T20:05:54.820048",
     "exception": false,
     "start_time": "2023-10-05T20:05:54.794888",
     "status": "completed"
    },
    "tags": []
   },
   "outputs": [
    {
     "data": {
      "text/plain": [
       "(37500, 19)"
      ]
     },
     "execution_count": 3,
     "metadata": {},
     "output_type": "execute_result"
    }
   ],
   "source": [
    "df.shape"
   ]
  },
  {
   "cell_type": "code",
   "execution_count": 4,
   "id": "45cfaa9c",
   "metadata": {
    "execution": {
     "iopub.execute_input": "2023-10-05T20:05:54.845373Z",
     "iopub.status.busy": "2023-10-05T20:05:54.844900Z",
     "iopub.status.idle": "2023-10-05T20:05:54.853289Z",
     "shell.execute_reply": "2023-10-05T20:05:54.851933Z"
    },
    "papermill": {
     "duration": 0.023782,
     "end_time": "2023-10-05T20:05:54.855543",
     "exception": false,
     "start_time": "2023-10-05T20:05:54.831761",
     "status": "completed"
    },
    "tags": []
   },
   "outputs": [
    {
     "data": {
      "text/plain": [
       "Index(['index', 'beer/ABV', 'beer/beerId', 'beer/brewerId', 'beer/name',\n",
       "       'beer/style', 'review/appearance', 'review/aroma', 'review/overall',\n",
       "       'review/palate', 'review/taste', 'review/text', 'review/timeStruct',\n",
       "       'review/timeUnix', 'user/ageInSeconds', 'user/birthdayRaw',\n",
       "       'user/birthdayUnix', 'user/gender', 'user/profileName'],\n",
       "      dtype='object')"
      ]
     },
     "execution_count": 4,
     "metadata": {},
     "output_type": "execute_result"
    }
   ],
   "source": [
    "df.columns"
   ]
  },
  {
   "cell_type": "code",
   "execution_count": 5,
   "id": "12f59098",
   "metadata": {
    "execution": {
     "iopub.execute_input": "2023-10-05T20:05:54.881323Z",
     "iopub.status.busy": "2023-10-05T20:05:54.880847Z",
     "iopub.status.idle": "2023-10-05T20:05:54.931525Z",
     "shell.execute_reply": "2023-10-05T20:05:54.930199Z"
    },
    "papermill": {
     "duration": 0.067455,
     "end_time": "2023-10-05T20:05:54.934545",
     "exception": false,
     "start_time": "2023-10-05T20:05:54.867090",
     "status": "completed"
    },
    "tags": []
   },
   "outputs": [
    {
     "name": "stdout",
     "output_type": "stream",
     "text": [
      "<class 'pandas.core.frame.DataFrame'>\n",
      "RangeIndex: 37500 entries, 0 to 37499\n",
      "Data columns (total 19 columns):\n",
      " #   Column             Non-Null Count  Dtype  \n",
      "---  ------             --------------  -----  \n",
      " 0   index              37500 non-null  int64  \n",
      " 1   beer/ABV           37500 non-null  float64\n",
      " 2   beer/beerId        37500 non-null  int64  \n",
      " 3   beer/brewerId      37500 non-null  int64  \n",
      " 4   beer/name          37500 non-null  object \n",
      " 5   beer/style         37500 non-null  object \n",
      " 6   review/appearance  37500 non-null  float64\n",
      " 7   review/aroma       37500 non-null  float64\n",
      " 8   review/overall     37500 non-null  float64\n",
      " 9   review/palate      37500 non-null  float64\n",
      " 10  review/taste       37500 non-null  float64\n",
      " 11  review/text        37490 non-null  object \n",
      " 12  review/timeStruct  37500 non-null  object \n",
      " 13  review/timeUnix    37500 non-null  int64  \n",
      " 14  user/ageInSeconds  7856 non-null   float64\n",
      " 15  user/birthdayRaw   7856 non-null   object \n",
      " 16  user/birthdayUnix  7856 non-null   float64\n",
      " 17  user/gender        15314 non-null  object \n",
      " 18  user/profileName   37495 non-null  object \n",
      "dtypes: float64(8), int64(4), object(7)\n",
      "memory usage: 5.4+ MB\n"
     ]
    }
   ],
   "source": [
    "df.info()"
   ]
  },
  {
   "cell_type": "code",
   "execution_count": 6,
   "id": "ddd8df3f",
   "metadata": {
    "execution": {
     "iopub.execute_input": "2023-10-05T20:05:54.959413Z",
     "iopub.status.busy": "2023-10-05T20:05:54.959008Z",
     "iopub.status.idle": "2023-10-05T20:05:55.028780Z",
     "shell.execute_reply": "2023-10-05T20:05:55.027570Z"
    },
    "papermill": {
     "duration": 0.085068,
     "end_time": "2023-10-05T20:05:55.031350",
     "exception": false,
     "start_time": "2023-10-05T20:05:54.946282",
     "status": "completed"
    },
    "tags": []
   },
   "outputs": [
    {
     "data": {
      "text/html": [
       "<div>\n",
       "<style scoped>\n",
       "    .dataframe tbody tr th:only-of-type {\n",
       "        vertical-align: middle;\n",
       "    }\n",
       "\n",
       "    .dataframe tbody tr th {\n",
       "        vertical-align: top;\n",
       "    }\n",
       "\n",
       "    .dataframe thead th {\n",
       "        text-align: right;\n",
       "    }\n",
       "</style>\n",
       "<table border=\"1\" class=\"dataframe\">\n",
       "  <thead>\n",
       "    <tr style=\"text-align: right;\">\n",
       "      <th></th>\n",
       "      <th>index</th>\n",
       "      <th>beer/ABV</th>\n",
       "      <th>beer/beerId</th>\n",
       "      <th>beer/brewerId</th>\n",
       "      <th>review/appearance</th>\n",
       "      <th>review/aroma</th>\n",
       "      <th>review/overall</th>\n",
       "      <th>review/palate</th>\n",
       "      <th>review/taste</th>\n",
       "      <th>review/timeUnix</th>\n",
       "      <th>user/ageInSeconds</th>\n",
       "      <th>user/birthdayUnix</th>\n",
       "    </tr>\n",
       "  </thead>\n",
       "  <tbody>\n",
       "    <tr>\n",
       "      <th>count</th>\n",
       "      <td>37500.000000</td>\n",
       "      <td>37500.000000</td>\n",
       "      <td>37500.000000</td>\n",
       "      <td>37500.000000</td>\n",
       "      <td>37500.000000</td>\n",
       "      <td>37500.000000</td>\n",
       "      <td>37500.00000</td>\n",
       "      <td>37500.000000</td>\n",
       "      <td>37500.000000</td>\n",
       "      <td>3.750000e+04</td>\n",
       "      <td>7.856000e+03</td>\n",
       "      <td>7.856000e+03</td>\n",
       "    </tr>\n",
       "    <tr>\n",
       "      <th>mean</th>\n",
       "      <td>24951.887573</td>\n",
       "      <td>7.403725</td>\n",
       "      <td>21861.152027</td>\n",
       "      <td>3036.595120</td>\n",
       "      <td>3.900053</td>\n",
       "      <td>3.873240</td>\n",
       "      <td>3.88944</td>\n",
       "      <td>3.854867</td>\n",
       "      <td>3.922440</td>\n",
       "      <td>1.232794e+09</td>\n",
       "      <td>1.176705e+09</td>\n",
       "      <td>2.416303e+08</td>\n",
       "    </tr>\n",
       "    <tr>\n",
       "      <th>std</th>\n",
       "      <td>14434.009669</td>\n",
       "      <td>2.318145</td>\n",
       "      <td>18923.130832</td>\n",
       "      <td>5123.084675</td>\n",
       "      <td>0.588778</td>\n",
       "      <td>0.680865</td>\n",
       "      <td>0.70045</td>\n",
       "      <td>0.668068</td>\n",
       "      <td>0.716504</td>\n",
       "      <td>7.190955e+07</td>\n",
       "      <td>3.375514e+08</td>\n",
       "      <td>3.375514e+08</td>\n",
       "    </tr>\n",
       "    <tr>\n",
       "      <th>min</th>\n",
       "      <td>0.000000</td>\n",
       "      <td>0.100000</td>\n",
       "      <td>175.000000</td>\n",
       "      <td>1.000000</td>\n",
       "      <td>0.000000</td>\n",
       "      <td>1.000000</td>\n",
       "      <td>0.00000</td>\n",
       "      <td>1.000000</td>\n",
       "      <td>1.000000</td>\n",
       "      <td>9.262944e+08</td>\n",
       "      <td>7.034366e+08</td>\n",
       "      <td>-2.208960e+09</td>\n",
       "    </tr>\n",
       "    <tr>\n",
       "      <th>25%</th>\n",
       "      <td>12422.500000</td>\n",
       "      <td>5.400000</td>\n",
       "      <td>5441.000000</td>\n",
       "      <td>395.000000</td>\n",
       "      <td>3.500000</td>\n",
       "      <td>3.500000</td>\n",
       "      <td>3.50000</td>\n",
       "      <td>3.500000</td>\n",
       "      <td>3.500000</td>\n",
       "      <td>1.189194e+09</td>\n",
       "      <td>9.794810e+08</td>\n",
       "      <td>1.433628e+08</td>\n",
       "    </tr>\n",
       "    <tr>\n",
       "      <th>50%</th>\n",
       "      <td>24942.500000</td>\n",
       "      <td>6.900000</td>\n",
       "      <td>17538.000000</td>\n",
       "      <td>1199.000000</td>\n",
       "      <td>4.000000</td>\n",
       "      <td>4.000000</td>\n",
       "      <td>4.00000</td>\n",
       "      <td>4.000000</td>\n",
       "      <td>4.000000</td>\n",
       "      <td>1.248150e+09</td>\n",
       "      <td>1.100009e+09</td>\n",
       "      <td>3.183264e+08</td>\n",
       "    </tr>\n",
       "    <tr>\n",
       "      <th>75%</th>\n",
       "      <td>37416.750000</td>\n",
       "      <td>9.400000</td>\n",
       "      <td>34146.000000</td>\n",
       "      <td>1315.000000</td>\n",
       "      <td>4.500000</td>\n",
       "      <td>4.500000</td>\n",
       "      <td>4.50000</td>\n",
       "      <td>4.500000</td>\n",
       "      <td>4.500000</td>\n",
       "      <td>1.291330e+09</td>\n",
       "      <td>1.274973e+09</td>\n",
       "      <td>4.388544e+08</td>\n",
       "    </tr>\n",
       "    <tr>\n",
       "      <th>max</th>\n",
       "      <td>49999.000000</td>\n",
       "      <td>57.700000</td>\n",
       "      <td>77207.000000</td>\n",
       "      <td>27797.000000</td>\n",
       "      <td>5.000000</td>\n",
       "      <td>5.000000</td>\n",
       "      <td>5.00000</td>\n",
       "      <td>5.000000</td>\n",
       "      <td>5.000000</td>\n",
       "      <td>1.326267e+09</td>\n",
       "      <td>3.627295e+09</td>\n",
       "      <td>7.148988e+08</td>\n",
       "    </tr>\n",
       "  </tbody>\n",
       "</table>\n",
       "</div>"
      ],
      "text/plain": [
       "              index      beer/ABV   beer/beerId  beer/brewerId  \\\n",
       "count  37500.000000  37500.000000  37500.000000   37500.000000   \n",
       "mean   24951.887573      7.403725  21861.152027    3036.595120   \n",
       "std    14434.009669      2.318145  18923.130832    5123.084675   \n",
       "min        0.000000      0.100000    175.000000       1.000000   \n",
       "25%    12422.500000      5.400000   5441.000000     395.000000   \n",
       "50%    24942.500000      6.900000  17538.000000    1199.000000   \n",
       "75%    37416.750000      9.400000  34146.000000    1315.000000   \n",
       "max    49999.000000     57.700000  77207.000000   27797.000000   \n",
       "\n",
       "       review/appearance  review/aroma  review/overall  review/palate  \\\n",
       "count       37500.000000  37500.000000     37500.00000   37500.000000   \n",
       "mean            3.900053      3.873240         3.88944       3.854867   \n",
       "std             0.588778      0.680865         0.70045       0.668068   \n",
       "min             0.000000      1.000000         0.00000       1.000000   \n",
       "25%             3.500000      3.500000         3.50000       3.500000   \n",
       "50%             4.000000      4.000000         4.00000       4.000000   \n",
       "75%             4.500000      4.500000         4.50000       4.500000   \n",
       "max             5.000000      5.000000         5.00000       5.000000   \n",
       "\n",
       "       review/taste  review/timeUnix  user/ageInSeconds  user/birthdayUnix  \n",
       "count  37500.000000     3.750000e+04       7.856000e+03       7.856000e+03  \n",
       "mean       3.922440     1.232794e+09       1.176705e+09       2.416303e+08  \n",
       "std        0.716504     7.190955e+07       3.375514e+08       3.375514e+08  \n",
       "min        1.000000     9.262944e+08       7.034366e+08      -2.208960e+09  \n",
       "25%        3.500000     1.189194e+09       9.794810e+08       1.433628e+08  \n",
       "50%        4.000000     1.248150e+09       1.100009e+09       3.183264e+08  \n",
       "75%        4.500000     1.291330e+09       1.274973e+09       4.388544e+08  \n",
       "max        5.000000     1.326267e+09       3.627295e+09       7.148988e+08  "
      ]
     },
     "execution_count": 6,
     "metadata": {},
     "output_type": "execute_result"
    }
   ],
   "source": [
    "df.describe()"
   ]
  },
  {
   "cell_type": "code",
   "execution_count": 7,
   "id": "ba690f77",
   "metadata": {
    "execution": {
     "iopub.execute_input": "2023-10-05T20:05:55.056410Z",
     "iopub.status.busy": "2023-10-05T20:05:55.055906Z",
     "iopub.status.idle": "2023-10-05T20:05:55.170996Z",
     "shell.execute_reply": "2023-10-05T20:05:55.169643Z"
    },
    "papermill": {
     "duration": 0.130857,
     "end_time": "2023-10-05T20:05:55.173642",
     "exception": false,
     "start_time": "2023-10-05T20:05:55.042785",
     "status": "completed"
    },
    "tags": []
   },
   "outputs": [
    {
     "data": {
      "text/html": [
       "<div>\n",
       "<style scoped>\n",
       "    .dataframe tbody tr th:only-of-type {\n",
       "        vertical-align: middle;\n",
       "    }\n",
       "\n",
       "    .dataframe tbody tr th {\n",
       "        vertical-align: top;\n",
       "    }\n",
       "\n",
       "    .dataframe thead th {\n",
       "        text-align: right;\n",
       "    }\n",
       "</style>\n",
       "<table border=\"1\" class=\"dataframe\">\n",
       "  <thead>\n",
       "    <tr style=\"text-align: right;\">\n",
       "      <th></th>\n",
       "      <th>count</th>\n",
       "      <th>unique</th>\n",
       "      <th>top</th>\n",
       "      <th>freq</th>\n",
       "    </tr>\n",
       "  </thead>\n",
       "  <tbody>\n",
       "    <tr>\n",
       "      <th>beer/name</th>\n",
       "      <td>37500</td>\n",
       "      <td>1688</td>\n",
       "      <td>Founders Breakfast Stout</td>\n",
       "      <td>1883</td>\n",
       "    </tr>\n",
       "    <tr>\n",
       "      <th>beer/style</th>\n",
       "      <td>37500</td>\n",
       "      <td>95</td>\n",
       "      <td>American Double / Imperial Stout</td>\n",
       "      <td>4495</td>\n",
       "    </tr>\n",
       "    <tr>\n",
       "      <th>review/text</th>\n",
       "      <td>37490</td>\n",
       "      <td>37482</td>\n",
       "      <td>The beer has a bit of a reddish color to it, w...</td>\n",
       "      <td>2</td>\n",
       "    </tr>\n",
       "    <tr>\n",
       "      <th>review/timeStruct</th>\n",
       "      <td>37500</td>\n",
       "      <td>37490</td>\n",
       "      <td>{'min': 0, 'hour': 0, 'mday': 10, 'sec': 1, 'y...</td>\n",
       "      <td>3</td>\n",
       "    </tr>\n",
       "    <tr>\n",
       "      <th>user/birthdayRaw</th>\n",
       "      <td>7856</td>\n",
       "      <td>1432</td>\n",
       "      <td>Sep 14, 1980</td>\n",
       "      <td>76</td>\n",
       "    </tr>\n",
       "    <tr>\n",
       "      <th>user/gender</th>\n",
       "      <td>15314</td>\n",
       "      <td>2</td>\n",
       "      <td>Male</td>\n",
       "      <td>15069</td>\n",
       "    </tr>\n",
       "    <tr>\n",
       "      <th>user/profileName</th>\n",
       "      <td>37495</td>\n",
       "      <td>7441</td>\n",
       "      <td>northyorksammy</td>\n",
       "      <td>141</td>\n",
       "    </tr>\n",
       "  </tbody>\n",
       "</table>\n",
       "</div>"
      ],
      "text/plain": [
       "                   count unique  \\\n",
       "beer/name          37500   1688   \n",
       "beer/style         37500     95   \n",
       "review/text        37490  37482   \n",
       "review/timeStruct  37500  37490   \n",
       "user/birthdayRaw    7856   1432   \n",
       "user/gender        15314      2   \n",
       "user/profileName   37495   7441   \n",
       "\n",
       "                                                                 top   freq  \n",
       "beer/name                                   Founders Breakfast Stout   1883  \n",
       "beer/style                          American Double / Imperial Stout   4495  \n",
       "review/text        The beer has a bit of a reddish color to it, w...      2  \n",
       "review/timeStruct  {'min': 0, 'hour': 0, 'mday': 10, 'sec': 1, 'y...      3  \n",
       "user/birthdayRaw                                        Sep 14, 1980     76  \n",
       "user/gender                                                     Male  15069  \n",
       "user/profileName                                      northyorksammy    141  "
      ]
     },
     "execution_count": 7,
     "metadata": {},
     "output_type": "execute_result"
    }
   ],
   "source": [
    "df.describe(include=['O']).T # to include categorical columns"
   ]
  },
  {
   "cell_type": "code",
   "execution_count": 8,
   "id": "898a2d81",
   "metadata": {
    "execution": {
     "iopub.execute_input": "2023-10-05T20:05:55.199738Z",
     "iopub.status.busy": "2023-10-05T20:05:55.199376Z",
     "iopub.status.idle": "2023-10-05T20:05:55.262520Z",
     "shell.execute_reply": "2023-10-05T20:05:55.260986Z"
    },
    "papermill": {
     "duration": 0.079075,
     "end_time": "2023-10-05T20:05:55.265049",
     "exception": false,
     "start_time": "2023-10-05T20:05:55.185974",
     "status": "completed"
    },
    "tags": []
   },
   "outputs": [
    {
     "data": {
      "text/plain": [
       "index                37500\n",
       "beer/ABV               126\n",
       "beer/beerId           1731\n",
       "beer/brewerId          212\n",
       "beer/name             1688\n",
       "beer/style              95\n",
       "review/appearance       10\n",
       "review/aroma             9\n",
       "review/overall          10\n",
       "review/palate            9\n",
       "review/taste             9\n",
       "review/text          37482\n",
       "review/timeStruct    37490\n",
       "review/timeUnix      37490\n",
       "user/ageInSeconds     1471\n",
       "user/birthdayRaw      1432\n",
       "user/birthdayUnix     1432\n",
       "user/gender              2\n",
       "user/profileName      7441\n",
       "dtype: int64"
      ]
     },
     "execution_count": 8,
     "metadata": {},
     "output_type": "execute_result"
    }
   ],
   "source": [
    "df.nunique()"
   ]
  },
  {
   "cell_type": "code",
   "execution_count": 9,
   "id": "e1cb3085",
   "metadata": {
    "execution": {
     "iopub.execute_input": "2023-10-05T20:05:55.387316Z",
     "iopub.status.busy": "2023-10-05T20:05:55.386914Z",
     "iopub.status.idle": "2023-10-05T20:05:55.443025Z",
     "shell.execute_reply": "2023-10-05T20:05:55.441607Z"
    },
    "papermill": {
     "duration": 0.167905,
     "end_time": "2023-10-05T20:05:55.445873",
     "exception": false,
     "start_time": "2023-10-05T20:05:55.277968",
     "status": "completed"
    },
    "tags": []
   },
   "outputs": [
    {
     "name": "stdout",
     "output_type": "stream",
     "text": [
      "unique values in index:\n",
      "[40163  8135 10529 ... 47720 33233 23758] \n",
      "\n",
      "unique values in beer/ABV:\n",
      "[ 5.   11.    4.7   4.4  10.   12.6   8.4   9.    6.2   8.5  10.5  11.2\n",
      "  7.    8.3   6.5   9.2   7.2   6.    5.5  12.    6.1   4.75  5.1   8.6\n",
      "  6.6   6.9   4.2   6.8   5.4   7.75 10.2   9.4   4.8   7.7   9.5   7.82\n",
      "  5.3   4.3   3.    8.   10.6   5.9   6.7   5.2   4.19  5.7   4.5   3.8\n",
      "  4.6   3.5   4.    4.9   8.1   9.8   5.6   5.8   8.2   6.3   7.6   5.79\n",
      "  7.5  14.   12.5  10.8   7.4  13.    6.4   7.1  10.4   9.1  11.1   5.59\n",
      " 15.    3.75  5.25  5.11 11.3   7.3   3.6   8.9   8.8   2.4   9.7  10.9\n",
      "  2.2   9.9   4.1   3.9   9.6   1.5  10.75 10.25 11.5   5.75  7.8   3.1\n",
      "  4.55  2.5   7.9   4.25 11.9   3.7  39.44 16.   12.9  10.3   0.5   9.3\n",
      "  2.8   8.7   5.47  6.25  4.37  8.25  0.1   3.2   7.26  7.25 14.5  43.\n",
      "  8.85  6.32  3.4  12.8  57.7  30.86] \n",
      "\n",
      "unique values in beer/beerId:\n",
      "[46634  3003   961 ... 49959 71810 29697] \n",
      "\n",
      "unique values in beer/brewerId:\n",
      "[14338   395   365     1  1417    14 14879   394  1386  1199  6277 16386\n",
      "  3268  1075 11863 27797   263  9020  1315   807    60   568 12224   453\n",
      " 24445 10541  1303   163   577 13228 13831 26990   936 23246  2098  5970\n",
      "   765  3351 21516  2446  3282 14756  2600  1254  3403  8802  1616  2916\n",
      "  2647 13397   850  5430  6272   289  7402 16994  2055  9370  1497 16791\n",
      "  2414 20638  9816 21138  5500 24486 22167 20658 11203 23020  1068 18012\n",
      " 24447 20268 21590  5313  5049  6513   860  7091  1482 24162  1454  2188\n",
      "  2554 15636  1413 13905 16517  2464 17285 21841  2430  1463  6245 14649\n",
      "  7536   576 13670 26946 26983 12003   885  2100 21865 22430  9347 14365\n",
      " 11715 10103  2412  2724 16859 11710 20988  7104 24757  2310 16269  2850\n",
      "  2906 16890 25949 23982  5321   971 23082 27021  5510 12907  5246  1381\n",
      " 10325  8775  3407  6836  3512  3965 14484 16050  5514 10774  1289   574\n",
      " 18816 24477  4103  7088  2810  5752 26816 25684  1917 18847 24892  5095\n",
      " 26384  5007 26612  4955  4898  5892  7732 23739 18185 14003 17212 15527\n",
      "   670 13614  8685 17783  1487 25484 10324 11084  5319  2618  3207 18225\n",
      "  7345  1127 16321  7601  2804 24517 11159 24748 10818 16041  3701   564\n",
      " 17293 16319 10154 18636 15607 27133 23468 10950 16863 15610  3631 15737\n",
      " 13892 26409  7314 27079  3408 25953  3524 16323] \n",
      "\n",
      "unique values in beer/name:\n",
      "['Chiostro' \"Bearded Pat's Barleywine\" \"Naughty Nellie's Ale\" ...\n",
      " 'Pszeniczne' 'Cauldron Brew' 'MoJo Belgian Style Abbey Dubbel'] \n",
      "\n",
      "unique values in beer/style:\n",
      "['Herbed / Spiced Beer' 'American Barleywine' 'American Pale Ale (APA)'\n",
      " 'Czech Pilsener' 'English Pale Ale' 'Russian Imperial Stout'\n",
      " 'American Wild Ale' 'Pumpkin Ale' 'English Barleywine' 'American IPA'\n",
      " 'Scotch Ale / Wee Heavy' 'American Double / Imperial Stout'\n",
      " 'Euro Pale Lager' 'Maibock / Helles Bock' 'American Amber / Red Ale'\n",
      " 'Rye Beer' 'American Double / Imperial IPA' 'MÃ¤rzen / Oktoberfest'\n",
      " 'Fruit / Vegetable Beer' 'Witbier' 'Light Lager' 'Rauchbier'\n",
      " 'American Porter' 'Hefeweizen' 'Extra Special / Strong Bitter (ESB)'\n",
      " 'Wheatwine' 'English Strong Ale' 'Braggot' 'Euro Strong Lager'\n",
      " 'Munich Helles Lager' 'English India Pale Ale (IPA)' 'Altbier'\n",
      " 'Doppelbock' 'American Brown Ale' 'Munich Dunkel Lager' 'Irish Dry Stout'\n",
      " 'KÃ¶lsch' 'Foreign / Export Stout' 'Cream Ale' 'Lambic - Unblended'\n",
      " 'Scottish Ale' 'Baltic Porter' 'Belgian IPA' 'Old Ale' 'German Pilsener'\n",
      " 'Bock' 'English Brown Ale' 'American Pale Wheat Ale' 'Smoked Beer'\n",
      " 'American Strong Ale' 'English Porter' 'Belgian Pale Ale' 'English Stout'\n",
      " 'American Adjunct Lager' 'English Bitter' 'Euro Dark Lager' 'Black & Tan'\n",
      " 'American Stout' 'Belgian Strong Dark Ale' 'Belgian Dark Ale' 'Tripel'\n",
      " 'American Blonde Ale' 'Belgian Strong Pale Ale'\n",
      " 'Scottish Gruit / Ancient Herbed Ale' 'Winter Warmer' 'Oatmeal Stout'\n",
      " 'American Malt Liquor' 'Dubbel' 'American Black Ale'\n",
      " 'American Amber / Red Lager' 'Dortmunder / Export Lager'\n",
      " 'Saison / Farmhouse Ale' 'BiÃ¨re de Garde' 'Quadrupel (Quad)'\n",
      " 'Weizenbock' 'Dunkelweizen' 'Schwarzbier' 'American Pale Lager'\n",
      " 'American Dark Wheat Ale' 'English Dark Mild Ale'\n",
      " 'Keller Bier / Zwickel Bier' 'Milk / Sweet Stout' 'Irish Red Ale'\n",
      " 'California Common / Steam Beer' 'Low Alcohol Beer'\n",
      " 'English Pale Mild Ale' 'Vienna Lager' 'Chile Beer'\n",
      " 'American Double / Imperial Pilsner' 'Flanders Oud Bruin'\n",
      " 'Flanders Red Ale' 'Lambic - Fruit' 'Eisbock' 'Kristalweizen'\n",
      " 'Berliner Weissbier'] \n",
      "\n",
      "unique values in review/appearance:\n",
      "[4.  3.5 3.  4.5 2.  5.  2.5 1.5 1.  0. ] \n",
      "\n",
      "unique values in review/aroma:\n",
      "[4.  3.5 3.  4.5 2.  5.  1.  1.5 2.5] \n",
      "\n",
      "unique values in review/overall:\n",
      "[4.  3.5 2.5 3.  4.5 2.  5.  1.5 1.  0. ] \n",
      "\n",
      "unique values in review/palate:\n",
      "[4.  3.5 3.  4.5 2.5 5.  1.5 1.  2. ] \n",
      "\n",
      "unique values in review/taste:\n",
      "[4.  3.  3.5 2.5 4.5 2.  5.  1.5 1. ] \n",
      "\n",
      "unique values in review/text:\n",
      "['Pours a clouded gold with a thin white head. Nose is quite floral with a larger amount of spices added. Definitely a spice forward fragrance. Flavor has an odd burn that hits on the first sip. After it fades it seems like a dirty vanilla aftertaste. Perhaps this is the absinthe? Regardless of that, I get a quite spiced tone on the tongue. Almost feel a little heat from it. I think that my inexperienced palate on these spices is contributing to my ignorance of what precisely they are. Overall a nice drinker indeed.'\n",
      " \"12oz bottle into 8oz snifter.\\t\\tDeep ruby red hue with a one finger light tan head that settles to a thin rim along the glass.\\t\\tSharp piercing hops with some light hard candy in the background. \\t\\tThe hops provide some bitterness, but they aren't as sharp as I would have expected. Mostly a light candy flavor like in the aroma. Full bodied with good carbonation. The finish is some lingering sweet flavor with a bit of bitterness.\\t\\tA very sweet barleywine with a weird hard candy flavor that seemed to dominate. Not bad, but I would have liked a little more complexity.\"\n",
      " 'First enjoyed at the brewpub about 2 years ago, I finally managed to get a bottle.\\tSlightly hazy orange-amber topped with a two finger foamy white head.\\tVery nice fruity aroma, soft and floral, tea and toast.\\tFruity, slightly grapefruity hop note, toast and biscuity malt balance. Hoppier and more floral when it warms up.\\tLight-medium bodied, liked it better on draft but still a solid beer.'\n",
      " ...\n",
      " 'Sampled on tap at Redbones.\\t\\tThis marzen style beer poured a clear, copper color with white foam that settled. The smell was a mild, slightly sweet malty aroma. The taste was slightly sweet (but less sweet than many other of this style) and tangy, malty, with the hops making their presence felt in the finish. There was also a bit of a dry, oaky flavor. The mouthfeel was smooth and creamy up front, but with a dry finish. The body and carbonation were medium. The aftertaste was dry and lingered nicely. This was a good oktoberfest beer.'\n",
      " \"Pours a black body with a brown head that very quickly fizzles away to a thin brown lace.\\t\\tAroma smells of coffee beans, bourbon, chocolate, malt.\\t\\tTaste a lot of bourbon and coffee right off the bat. Then, hints of chocolate and something very sweet like a syrup. After letting the beer settle I find the flavors come more together as it warms up. An incredibly tasty stout.\\t\\tMouthfeel is very impressive. Thick, but not too thick with a velvet like feel.\\t\\tThis beer is heavy and fills you up, also 11.20% so its not a beer you need to drink a whole lot of. Still though, you might find it hard to pass up another glass.\\t\\tOverall this beer is one of the best stouts i'm yet to have.\"\n",
      " 'A nice sweet, malty beer...nothing complex, just a smooth refreshing drink that reveals no hint of 8.3 abv.\\t\\tPours an ice-tea colored brown. If held to the light, the very center of the beer is dense. Lots of light comes through on the sides. Tan head is average size with poor retention. Good lacing. Smell and taste are of caramel malts. Must be balanced very well because it is quite sweet but not cloying or too sweet for mass consumption. Mouthfeel is thick and rich. Drinkability is good. I finished off the 12 oz bottle quickly and could have enjoyed more.\\t\\tThis is one you have to be in the mood for, but if you are looking for something well made and sweet, this will do it for you.'] \n",
      "\n",
      "unique values in review/timeStruct:\n",
      "[\"{'min': 38, 'hour': 3, 'mday': 16, 'sec': 10, 'year': 2008, 'wday': 1, 'mon': 12, 'isdst': 0, 'yday': 351}\"\n",
      " \"{'min': 38, 'hour': 23, 'mday': 8, 'sec': 58, 'year': 2008, 'wday': 4, 'mon': 8, 'isdst': 0, 'yday': 221}\"\n",
      " \"{'min': 7, 'hour': 18, 'mday': 26, 'sec': 2, 'year': 2004, 'wday': 4, 'mon': 11, 'isdst': 0, 'yday': 331}\"\n",
      " ...\n",
      " \"{'min': 3, 'hour': 1, 'mday': 25, 'sec': 36, 'year': 2003, 'wday': 5, 'mon': 10, 'isdst': 0, 'yday': 298}\"\n",
      " \"{'min': 52, 'hour': 19, 'mday': 29, 'sec': 33, 'year': 2011, 'wday': 5, 'mon': 1, 'isdst': 0, 'yday': 29}\"\n",
      " \"{'min': 40, 'hour': 18, 'mday': 4, 'sec': 28, 'year': 2009, 'wday': 4, 'mon': 9, 'isdst': 0, 'yday': 247}\"] \n",
      "\n",
      "unique values in review/timeUnix:\n",
      "[1229398690 1218238738 1101492422 ... 1067043816 1296330753 1252089628] \n",
      "\n",
      "unique values in user/ageInSeconds:\n",
      "[           nan 1.20982705e+09 1.20386545e+09 ... 8.43055447e+08\n",
      " 8.96540647e+08 8.71311848e+08] \n",
      "\n",
      "unique values in user/birthdayRaw:\n",
      "[nan 'Aug 10, 1976' 'Oct 18, 1976' ... 'Mar 25, 1988' 'Jul 15, 1986'\n",
      " 'May 3, 1987'] \n",
      "\n",
      "unique values in user/birthdayUnix:\n",
      "[         nan 2.085084e+08 2.144700e+08 ... 5.752800e+08 5.217948e+08\n",
      " 5.470236e+08] \n",
      "\n",
      "unique values in user/gender:\n",
      "[nan 'Male' 'Female'] \n",
      "\n",
      "unique values in user/profileName:\n",
      "['RblWthACoz' 'BeerSox' 'mschofield' ... 'Antikythera' 'JAA' 'dvsbizzyb'] \n",
      "\n"
     ]
    }
   ],
   "source": [
    "# Viewing unique values on each column\n",
    "\n",
    "for i in df.columns:\n",
    "    print(f'unique values in {i}:')\n",
    "    print(df[i].unique(),'\\n')"
   ]
  },
  {
   "cell_type": "code",
   "execution_count": 10,
   "id": "a9603208",
   "metadata": {
    "execution": {
     "iopub.execute_input": "2023-10-05T20:05:55.475248Z",
     "iopub.status.busy": "2023-10-05T20:05:55.474293Z",
     "iopub.status.idle": "2023-10-05T20:05:55.501212Z",
     "shell.execute_reply": "2023-10-05T20:05:55.500336Z"
    },
    "papermill": {
     "duration": 0.044081,
     "end_time": "2023-10-05T20:05:55.503625",
     "exception": false,
     "start_time": "2023-10-05T20:05:55.459544",
     "status": "completed"
    },
    "tags": []
   },
   "outputs": [
    {
     "data": {
      "text/plain": [
       "index                    0\n",
       "beer/ABV                 0\n",
       "beer/beerId              0\n",
       "beer/brewerId            0\n",
       "beer/name                0\n",
       "beer/style               0\n",
       "review/appearance        0\n",
       "review/aroma             0\n",
       "review/overall           0\n",
       "review/palate            0\n",
       "review/taste             0\n",
       "review/text             10\n",
       "review/timeStruct        0\n",
       "review/timeUnix          0\n",
       "user/ageInSeconds    29644\n",
       "user/birthdayRaw     29644\n",
       "user/birthdayUnix    29644\n",
       "user/gender          22186\n",
       "user/profileName         5\n",
       "dtype: int64"
      ]
     },
     "execution_count": 10,
     "metadata": {},
     "output_type": "execute_result"
    }
   ],
   "source": [
    "df.isna().sum()"
   ]
  },
  {
   "cell_type": "code",
   "execution_count": 11,
   "id": "c863cedd",
   "metadata": {
    "execution": {
     "iopub.execute_input": "2023-10-05T20:05:55.533461Z",
     "iopub.status.busy": "2023-10-05T20:05:55.532995Z",
     "iopub.status.idle": "2023-10-05T20:05:55.613591Z",
     "shell.execute_reply": "2023-10-05T20:05:55.612159Z"
    },
    "papermill": {
     "duration": 0.098243,
     "end_time": "2023-10-05T20:05:55.616153",
     "exception": false,
     "start_time": "2023-10-05T20:05:55.517910",
     "status": "completed"
    },
    "tags": []
   },
   "outputs": [
    {
     "data": {
      "text/plain": [
       "0"
      ]
     },
     "execution_count": 11,
     "metadata": {},
     "output_type": "execute_result"
    }
   ],
   "source": [
    "df.duplicated().sum()"
   ]
  },
  {
   "cell_type": "code",
   "execution_count": 12,
   "id": "3bb0ecfa",
   "metadata": {
    "execution": {
     "iopub.execute_input": "2023-10-05T20:05:55.644660Z",
     "iopub.status.busy": "2023-10-05T20:05:55.644221Z",
     "iopub.status.idle": "2023-10-05T20:05:55.652131Z",
     "shell.execute_reply": "2023-10-05T20:05:55.650924Z"
    },
    "papermill": {
     "duration": 0.024605,
     "end_time": "2023-10-05T20:05:55.654219",
     "exception": false,
     "start_time": "2023-10-05T20:05:55.629614",
     "status": "completed"
    },
    "tags": []
   },
   "outputs": [
    {
     "data": {
      "text/plain": [
       "(37500, 19)"
      ]
     },
     "execution_count": 12,
     "metadata": {},
     "output_type": "execute_result"
    }
   ],
   "source": [
    "df.shape"
   ]
  },
  {
   "cell_type": "code",
   "execution_count": 13,
   "id": "b0a504a1",
   "metadata": {
    "execution": {
     "iopub.execute_input": "2023-10-05T20:05:55.683214Z",
     "iopub.status.busy": "2023-10-05T20:05:55.682767Z",
     "iopub.status.idle": "2023-10-05T20:05:55.708555Z",
     "shell.execute_reply": "2023-10-05T20:05:55.707355Z"
    },
    "papermill": {
     "duration": 0.042961,
     "end_time": "2023-10-05T20:05:55.710587",
     "exception": false,
     "start_time": "2023-10-05T20:05:55.667626",
     "status": "completed"
    },
    "tags": []
   },
   "outputs": [
    {
     "data": {
      "text/plain": [
       "index                    0\n",
       "beer/ABV                 0\n",
       "beer/beerId              0\n",
       "beer/brewerId            0\n",
       "beer/name                0\n",
       "beer/style               0\n",
       "review/appearance        0\n",
       "review/aroma             0\n",
       "review/overall           0\n",
       "review/palate            0\n",
       "review/taste             0\n",
       "review/text             10\n",
       "review/timeStruct        0\n",
       "review/timeUnix          0\n",
       "user/ageInSeconds    29644\n",
       "user/birthdayRaw     29644\n",
       "user/birthdayUnix    29644\n",
       "user/gender          22186\n",
       "user/profileName         5\n",
       "dtype: int64"
      ]
     },
     "execution_count": 13,
     "metadata": {},
     "output_type": "execute_result"
    }
   ],
   "source": [
    "df.isna().sum()"
   ]
  },
  {
   "cell_type": "markdown",
   "id": "5bc8368a",
   "metadata": {
    "papermill": {
     "duration": 0.012212,
     "end_time": "2023-10-05T20:05:55.735887",
     "exception": false,
     "start_time": "2023-10-05T20:05:55.723675",
     "status": "completed"
    },
    "tags": []
   },
   "source": [
    "# <span style=\"font-family:cursive;text-align:center\">Feature Engineering and Encoding</span>"
   ]
  },
  {
   "cell_type": "code",
   "execution_count": 14,
   "id": "6408d8d3",
   "metadata": {
    "execution": {
     "iopub.execute_input": "2023-10-05T20:05:55.762851Z",
     "iopub.status.busy": "2023-10-05T20:05:55.762466Z",
     "iopub.status.idle": "2023-10-05T20:05:55.823130Z",
     "shell.execute_reply": "2023-10-05T20:05:55.822370Z"
    },
    "papermill": {
     "duration": 0.07705,
     "end_time": "2023-10-05T20:05:55.825429",
     "exception": false,
     "start_time": "2023-10-05T20:05:55.748379",
     "status": "completed"
    },
    "tags": []
   },
   "outputs": [
    {
     "data": {
      "text/plain": [
       "index                37500\n",
       "beer/ABV               126\n",
       "beer/beerId           1731\n",
       "beer/brewerId          212\n",
       "beer/name             1688\n",
       "beer/style              95\n",
       "review/appearance       10\n",
       "review/aroma             9\n",
       "review/overall          10\n",
       "review/palate            9\n",
       "review/taste             9\n",
       "review/text          37482\n",
       "review/timeStruct    37490\n",
       "review/timeUnix      37490\n",
       "user/ageInSeconds     1471\n",
       "user/birthdayRaw      1432\n",
       "user/birthdayUnix     1432\n",
       "user/gender              2\n",
       "user/profileName      7441\n",
       "dtype: int64"
      ]
     },
     "execution_count": 14,
     "metadata": {},
     "output_type": "execute_result"
    }
   ],
   "source": [
    "df.nunique()"
   ]
  },
  {
   "cell_type": "code",
   "execution_count": 15,
   "id": "4b138be1",
   "metadata": {
    "execution": {
     "iopub.execute_input": "2023-10-05T20:05:55.852455Z",
     "iopub.status.busy": "2023-10-05T20:05:55.852079Z",
     "iopub.status.idle": "2023-10-05T20:05:55.866183Z",
     "shell.execute_reply": "2023-10-05T20:05:55.864858Z"
    },
    "papermill": {
     "duration": 0.030188,
     "end_time": "2023-10-05T20:05:55.868407",
     "exception": false,
     "start_time": "2023-10-05T20:05:55.838219",
     "status": "completed"
    },
    "tags": []
   },
   "outputs": [],
   "source": [
    "df['review/text'] = df['review/text'].fillna('')"
   ]
  },
  {
   "cell_type": "code",
   "execution_count": 16,
   "id": "75eb7759",
   "metadata": {
    "execution": {
     "iopub.execute_input": "2023-10-05T20:05:55.895563Z",
     "iopub.status.busy": "2023-10-05T20:05:55.894842Z",
     "iopub.status.idle": "2023-10-05T20:05:55.998442Z",
     "shell.execute_reply": "2023-10-05T20:05:55.997299Z"
    },
    "papermill": {
     "duration": 0.120439,
     "end_time": "2023-10-05T20:05:56.001488",
     "exception": false,
     "start_time": "2023-10-05T20:05:55.881049",
     "status": "completed"
    },
    "tags": []
   },
   "outputs": [],
   "source": [
    "# Convert beer style to numerical values\n",
    "encoder = LabelEncoder()\n",
    "df['beer/style'] = encoder.fit_transform(df['beer/style'])\n",
    "\n",
    "# Extract year from review time\n",
    "df['review/year'] = pd.to_datetime(df['review/timeUnix'], unit='s').dt.year\n",
    "\n",
    "# Calculate the length of each review\n",
    "df['review/length'] = df['review/text'].apply(len)\n",
    "\n",
    "# Target encode 'beer/name'\n",
    "encoder = TargetEncoder()\n",
    "df['beer/name'] = encoder.fit_transform(df['beer/name'], df['review/overall'])\n",
    "\n",
    "# Drop unnecessary columns\n",
    "df = df.drop(columns=['index', 'beer/beerId', 'beer/brewerId', 'user/birthdayRaw', 'user/birthdayUnix', 'user/profileName', 'user/gender', 'review/text', 'review/timeStruct'])"
   ]
  },
  {
   "cell_type": "code",
   "execution_count": 17,
   "id": "5edd3d0f",
   "metadata": {
    "execution": {
     "iopub.execute_input": "2023-10-05T20:05:56.030876Z",
     "iopub.status.busy": "2023-10-05T20:05:56.030497Z",
     "iopub.status.idle": "2023-10-05T20:05:56.053461Z",
     "shell.execute_reply": "2023-10-05T20:05:56.052276Z"
    },
    "papermill": {
     "duration": 0.039487,
     "end_time": "2023-10-05T20:05:56.055372",
     "exception": false,
     "start_time": "2023-10-05T20:05:56.015885",
     "status": "completed"
    },
    "tags": []
   },
   "outputs": [
    {
     "data": {
      "text/html": [
       "<div>\n",
       "<style scoped>\n",
       "    .dataframe tbody tr th:only-of-type {\n",
       "        vertical-align: middle;\n",
       "    }\n",
       "\n",
       "    .dataframe tbody tr th {\n",
       "        vertical-align: top;\n",
       "    }\n",
       "\n",
       "    .dataframe thead th {\n",
       "        text-align: right;\n",
       "    }\n",
       "</style>\n",
       "<table border=\"1\" class=\"dataframe\">\n",
       "  <thead>\n",
       "    <tr style=\"text-align: right;\">\n",
       "      <th></th>\n",
       "      <th>beer/ABV</th>\n",
       "      <th>beer/name</th>\n",
       "      <th>beer/style</th>\n",
       "      <th>review/appearance</th>\n",
       "      <th>review/aroma</th>\n",
       "      <th>review/overall</th>\n",
       "      <th>review/palate</th>\n",
       "      <th>review/taste</th>\n",
       "      <th>review/timeUnix</th>\n",
       "      <th>user/ageInSeconds</th>\n",
       "      <th>review/year</th>\n",
       "      <th>review/length</th>\n",
       "    </tr>\n",
       "  </thead>\n",
       "  <tbody>\n",
       "    <tr>\n",
       "      <th>0</th>\n",
       "      <td>5.00</td>\n",
       "      <td>3.798809</td>\n",
       "      <td>61</td>\n",
       "      <td>4.0</td>\n",
       "      <td>4.0</td>\n",
       "      <td>4.0</td>\n",
       "      <td>4.0</td>\n",
       "      <td>4.0</td>\n",
       "      <td>1229398690</td>\n",
       "      <td>NaN</td>\n",
       "      <td>2008</td>\n",
       "      <td>519</td>\n",
       "    </tr>\n",
       "    <tr>\n",
       "      <th>1</th>\n",
       "      <td>11.00</td>\n",
       "      <td>3.667611</td>\n",
       "      <td>4</td>\n",
       "      <td>4.0</td>\n",
       "      <td>3.5</td>\n",
       "      <td>3.5</td>\n",
       "      <td>3.5</td>\n",
       "      <td>3.0</td>\n",
       "      <td>1218238738</td>\n",
       "      <td>NaN</td>\n",
       "      <td>2008</td>\n",
       "      <td>568</td>\n",
       "    </tr>\n",
       "    <tr>\n",
       "      <th>2</th>\n",
       "      <td>4.70</td>\n",
       "      <td>3.635385</td>\n",
       "      <td>14</td>\n",
       "      <td>3.5</td>\n",
       "      <td>4.0</td>\n",
       "      <td>3.5</td>\n",
       "      <td>3.5</td>\n",
       "      <td>3.5</td>\n",
       "      <td>1101492422</td>\n",
       "      <td>NaN</td>\n",
       "      <td>2004</td>\n",
       "      <td>392</td>\n",
       "    </tr>\n",
       "    <tr>\n",
       "      <th>3</th>\n",
       "      <td>4.40</td>\n",
       "      <td>3.834741</td>\n",
       "      <td>35</td>\n",
       "      <td>3.0</td>\n",
       "      <td>3.0</td>\n",
       "      <td>2.5</td>\n",
       "      <td>3.0</td>\n",
       "      <td>3.0</td>\n",
       "      <td>1308532025</td>\n",
       "      <td>1.209827e+09</td>\n",
       "      <td>2011</td>\n",
       "      <td>391</td>\n",
       "    </tr>\n",
       "    <tr>\n",
       "      <th>4</th>\n",
       "      <td>4.40</td>\n",
       "      <td>3.871032</td>\n",
       "      <td>46</td>\n",
       "      <td>4.0</td>\n",
       "      <td>3.0</td>\n",
       "      <td>3.0</td>\n",
       "      <td>3.5</td>\n",
       "      <td>2.5</td>\n",
       "      <td>1299912708</td>\n",
       "      <td>NaN</td>\n",
       "      <td>2011</td>\n",
       "      <td>486</td>\n",
       "    </tr>\n",
       "    <tr>\n",
       "      <th>...</th>\n",
       "      <td>...</td>\n",
       "      <td>...</td>\n",
       "      <td>...</td>\n",
       "      <td>...</td>\n",
       "      <td>...</td>\n",
       "      <td>...</td>\n",
       "      <td>...</td>\n",
       "      <td>...</td>\n",
       "      <td>...</td>\n",
       "      <td>...</td>\n",
       "      <td>...</td>\n",
       "      <td>...</td>\n",
       "    </tr>\n",
       "    <tr>\n",
       "      <th>37495</th>\n",
       "      <td>5.50</td>\n",
       "      <td>3.219836</td>\n",
       "      <td>58</td>\n",
       "      <td>4.0</td>\n",
       "      <td>3.5</td>\n",
       "      <td>3.5</td>\n",
       "      <td>3.5</td>\n",
       "      <td>3.5</td>\n",
       "      <td>1207871761</td>\n",
       "      <td>NaN</td>\n",
       "      <td>2008</td>\n",
       "      <td>616</td>\n",
       "    </tr>\n",
       "    <tr>\n",
       "      <th>37496</th>\n",
       "      <td>8.50</td>\n",
       "      <td>3.930315</td>\n",
       "      <td>85</td>\n",
       "      <td>4.5</td>\n",
       "      <td>4.0</td>\n",
       "      <td>3.5</td>\n",
       "      <td>4.5</td>\n",
       "      <td>4.5</td>\n",
       "      <td>1263102314</td>\n",
       "      <td>NaN</td>\n",
       "      <td>2010</td>\n",
       "      <td>894</td>\n",
       "    </tr>\n",
       "    <tr>\n",
       "      <th>37497</th>\n",
       "      <td>4.75</td>\n",
       "      <td>3.814056</td>\n",
       "      <td>75</td>\n",
       "      <td>4.0</td>\n",
       "      <td>3.5</td>\n",
       "      <td>4.0</td>\n",
       "      <td>4.5</td>\n",
       "      <td>4.0</td>\n",
       "      <td>1067043816</td>\n",
       "      <td>NaN</td>\n",
       "      <td>2003</td>\n",
       "      <td>539</td>\n",
       "    </tr>\n",
       "    <tr>\n",
       "      <th>37498</th>\n",
       "      <td>11.20</td>\n",
       "      <td>4.388619</td>\n",
       "      <td>11</td>\n",
       "      <td>4.0</td>\n",
       "      <td>4.0</td>\n",
       "      <td>4.0</td>\n",
       "      <td>5.0</td>\n",
       "      <td>5.0</td>\n",
       "      <td>1296330753</td>\n",
       "      <td>NaN</td>\n",
       "      <td>2011</td>\n",
       "      <td>683</td>\n",
       "    </tr>\n",
       "    <tr>\n",
       "      <th>37499</th>\n",
       "      <td>8.50</td>\n",
       "      <td>3.930315</td>\n",
       "      <td>85</td>\n",
       "      <td>4.0</td>\n",
       "      <td>4.0</td>\n",
       "      <td>4.0</td>\n",
       "      <td>4.5</td>\n",
       "      <td>4.0</td>\n",
       "      <td>1252089628</td>\n",
       "      <td>NaN</td>\n",
       "      <td>2009</td>\n",
       "      <td>691</td>\n",
       "    </tr>\n",
       "  </tbody>\n",
       "</table>\n",
       "<p>37500 rows × 12 columns</p>\n",
       "</div>"
      ],
      "text/plain": [
       "       beer/ABV  beer/name  beer/style  review/appearance  review/aroma  \\\n",
       "0          5.00   3.798809          61                4.0           4.0   \n",
       "1         11.00   3.667611           4                4.0           3.5   \n",
       "2          4.70   3.635385          14                3.5           4.0   \n",
       "3          4.40   3.834741          35                3.0           3.0   \n",
       "4          4.40   3.871032          46                4.0           3.0   \n",
       "...         ...        ...         ...                ...           ...   \n",
       "37495      5.50   3.219836          58                4.0           3.5   \n",
       "37496      8.50   3.930315          85                4.5           4.0   \n",
       "37497      4.75   3.814056          75                4.0           3.5   \n",
       "37498     11.20   4.388619          11                4.0           4.0   \n",
       "37499      8.50   3.930315          85                4.0           4.0   \n",
       "\n",
       "       review/overall  review/palate  review/taste  review/timeUnix  \\\n",
       "0                 4.0            4.0           4.0       1229398690   \n",
       "1                 3.5            3.5           3.0       1218238738   \n",
       "2                 3.5            3.5           3.5       1101492422   \n",
       "3                 2.5            3.0           3.0       1308532025   \n",
       "4                 3.0            3.5           2.5       1299912708   \n",
       "...               ...            ...           ...              ...   \n",
       "37495             3.5            3.5           3.5       1207871761   \n",
       "37496             3.5            4.5           4.5       1263102314   \n",
       "37497             4.0            4.5           4.0       1067043816   \n",
       "37498             4.0            5.0           5.0       1296330753   \n",
       "37499             4.0            4.5           4.0       1252089628   \n",
       "\n",
       "       user/ageInSeconds  review/year  review/length  \n",
       "0                    NaN         2008            519  \n",
       "1                    NaN         2008            568  \n",
       "2                    NaN         2004            392  \n",
       "3           1.209827e+09         2011            391  \n",
       "4                    NaN         2011            486  \n",
       "...                  ...          ...            ...  \n",
       "37495                NaN         2008            616  \n",
       "37496                NaN         2010            894  \n",
       "37497                NaN         2003            539  \n",
       "37498                NaN         2011            683  \n",
       "37499                NaN         2009            691  \n",
       "\n",
       "[37500 rows x 12 columns]"
      ]
     },
     "execution_count": 17,
     "metadata": {},
     "output_type": "execute_result"
    }
   ],
   "source": [
    "df"
   ]
  },
  {
   "cell_type": "code",
   "execution_count": 18,
   "id": "5f33e5fe",
   "metadata": {
    "execution": {
     "iopub.execute_input": "2023-10-05T20:05:56.083368Z",
     "iopub.status.busy": "2023-10-05T20:05:56.082803Z",
     "iopub.status.idle": "2023-10-05T20:05:57.117023Z",
     "shell.execute_reply": "2023-10-05T20:05:57.115925Z"
    },
    "papermill": {
     "duration": 1.052007,
     "end_time": "2023-10-05T20:05:57.120477",
     "exception": false,
     "start_time": "2023-10-05T20:05:56.068470",
     "status": "completed"
    },
    "tags": []
   },
   "outputs": [
    {
     "data": {
      "image/png": "[encoded data removed]",
      "text/plain": [
       "<Figure size 1000x800 with 2 Axes>"
      ]
     },
     "metadata": {},
     "output_type": "display_data"
    }
   ],
   "source": [
    "# Calculate and plot a heat of the correlation matrix\n",
    "corr = df.corr()\n",
    "plt.figure(figsize=(10,8))\n",
    "sns.heatmap(corr, annot=True, fmt=\".2f\", cmap='coolwarm')\n",
    "plt.show()"
   ]
  },
  {
   "cell_type": "code",
   "execution_count": 19,
   "id": "f849d38f",
   "metadata": {
    "execution": {
     "iopub.execute_input": "2023-10-05T20:05:57.155394Z",
     "iopub.status.busy": "2023-10-05T20:05:57.154990Z",
     "iopub.status.idle": "2023-10-05T20:05:57.679102Z",
     "shell.execute_reply": "2023-10-05T20:05:57.678027Z"
    },
    "papermill": {
     "duration": 0.544041,
     "end_time": "2023-10-05T20:05:57.681153",
     "exception": false,
     "start_time": "2023-10-05T20:05:57.137112",
     "status": "completed"
    },
    "tags": []
   },
   "outputs": [
    {
     "data": {
      "image/png": "[encoded data removed]",
      "text/plain": [
       "<Figure size 800x600 with 1 Axes>"
      ]
     },
     "metadata": {},
     "output_type": "display_data"
    }
   ],
   "source": [
    "# Plot a histogram of the target variable ('review/overall')\n",
    "plt.figure(figsize=(8,6))\n",
    "sns.histplot(df['review/overall'], bins=20, kde=True)\n",
    "plt.title('Distribution of Overall Review Ratings')\n",
    "plt.show()"
   ]
  },
  {
   "cell_type": "markdown",
   "id": "774db82c",
   "metadata": {
    "papermill": {
     "duration": 0.017035,
     "end_time": "2023-10-05T20:05:57.715654",
     "exception": false,
     "start_time": "2023-10-05T20:05:57.698619",
     "status": "completed"
    },
    "tags": []
   },
   "source": [
    "# Feature Selection & Training"
   ]
  },
  {
   "cell_type": "code",
   "execution_count": 20,
   "id": "1a040394",
   "metadata": {
    "execution": {
     "iopub.execute_input": "2023-10-05T20:05:57.751453Z",
     "iopub.status.busy": "2023-10-05T20:05:57.750840Z",
     "iopub.status.idle": "2023-10-05T20:05:57.762954Z",
     "shell.execute_reply": "2023-10-05T20:05:57.761756Z"
    },
    "papermill": {
     "duration": 0.03298,
     "end_time": "2023-10-05T20:05:57.765567",
     "exception": false,
     "start_time": "2023-10-05T20:05:57.732587",
     "status": "completed"
    },
    "tags": []
   },
   "outputs": [],
   "source": [
    "# Split the data into training and test sets \n",
    "X = df.drop(columns = ['review/overall', 'review/timeUnix', 'review/year', 'review/length', 'user/ageInSeconds'], axis=1)\n",
    "y = df['review/overall']\n",
    "X_train, X_test, y_train, y_test = train_test_split(X, y, test_size=0.2, random_state=42)"
   ]
  },
  {
   "cell_type": "code",
   "execution_count": 21,
   "id": "6c4a340a",
   "metadata": {
    "execution": {
     "iopub.execute_input": "2023-10-05T20:05:57.802573Z",
     "iopub.status.busy": "2023-10-05T20:05:57.801951Z",
     "iopub.status.idle": "2023-10-05T20:05:57.818609Z",
     "shell.execute_reply": "2023-10-05T20:05:57.817764Z"
    },
    "papermill": {
     "duration": 0.037562,
     "end_time": "2023-10-05T20:05:57.820742",
     "exception": false,
     "start_time": "2023-10-05T20:05:57.783180",
     "status": "completed"
    },
    "tags": []
   },
   "outputs": [
    {
     "data": {
      "text/html": [
       "<div>\n",
       "<style scoped>\n",
       "    .dataframe tbody tr th:only-of-type {\n",
       "        vertical-align: middle;\n",
       "    }\n",
       "\n",
       "    .dataframe tbody tr th {\n",
       "        vertical-align: top;\n",
       "    }\n",
       "\n",
       "    .dataframe thead th {\n",
       "        text-align: right;\n",
       "    }\n",
       "</style>\n",
       "<table border=\"1\" class=\"dataframe\">\n",
       "  <thead>\n",
       "    <tr style=\"text-align: right;\">\n",
       "      <th></th>\n",
       "      <th>beer/ABV</th>\n",
       "      <th>beer/name</th>\n",
       "      <th>beer/style</th>\n",
       "      <th>review/appearance</th>\n",
       "      <th>review/aroma</th>\n",
       "      <th>review/palate</th>\n",
       "      <th>review/taste</th>\n",
       "    </tr>\n",
       "  </thead>\n",
       "  <tbody>\n",
       "    <tr>\n",
       "      <th>0</th>\n",
       "      <td>5.00</td>\n",
       "      <td>3.798809</td>\n",
       "      <td>61</td>\n",
       "      <td>4.0</td>\n",
       "      <td>4.0</td>\n",
       "      <td>4.0</td>\n",
       "      <td>4.0</td>\n",
       "    </tr>\n",
       "    <tr>\n",
       "      <th>1</th>\n",
       "      <td>11.00</td>\n",
       "      <td>3.667611</td>\n",
       "      <td>4</td>\n",
       "      <td>4.0</td>\n",
       "      <td>3.5</td>\n",
       "      <td>3.5</td>\n",
       "      <td>3.0</td>\n",
       "    </tr>\n",
       "    <tr>\n",
       "      <th>2</th>\n",
       "      <td>4.70</td>\n",
       "      <td>3.635385</td>\n",
       "      <td>14</td>\n",
       "      <td>3.5</td>\n",
       "      <td>4.0</td>\n",
       "      <td>3.5</td>\n",
       "      <td>3.5</td>\n",
       "    </tr>\n",
       "    <tr>\n",
       "      <th>3</th>\n",
       "      <td>4.40</td>\n",
       "      <td>3.834741</td>\n",
       "      <td>35</td>\n",
       "      <td>3.0</td>\n",
       "      <td>3.0</td>\n",
       "      <td>3.0</td>\n",
       "      <td>3.0</td>\n",
       "    </tr>\n",
       "    <tr>\n",
       "      <th>4</th>\n",
       "      <td>4.40</td>\n",
       "      <td>3.871032</td>\n",
       "      <td>46</td>\n",
       "      <td>4.0</td>\n",
       "      <td>3.0</td>\n",
       "      <td>3.5</td>\n",
       "      <td>2.5</td>\n",
       "    </tr>\n",
       "    <tr>\n",
       "      <th>...</th>\n",
       "      <td>...</td>\n",
       "      <td>...</td>\n",
       "      <td>...</td>\n",
       "      <td>...</td>\n",
       "      <td>...</td>\n",
       "      <td>...</td>\n",
       "      <td>...</td>\n",
       "    </tr>\n",
       "    <tr>\n",
       "      <th>37495</th>\n",
       "      <td>5.50</td>\n",
       "      <td>3.219836</td>\n",
       "      <td>58</td>\n",
       "      <td>4.0</td>\n",
       "      <td>3.5</td>\n",
       "      <td>3.5</td>\n",
       "      <td>3.5</td>\n",
       "    </tr>\n",
       "    <tr>\n",
       "      <th>37496</th>\n",
       "      <td>8.50</td>\n",
       "      <td>3.930315</td>\n",
       "      <td>85</td>\n",
       "      <td>4.5</td>\n",
       "      <td>4.0</td>\n",
       "      <td>4.5</td>\n",
       "      <td>4.5</td>\n",
       "    </tr>\n",
       "    <tr>\n",
       "      <th>37497</th>\n",
       "      <td>4.75</td>\n",
       "      <td>3.814056</td>\n",
       "      <td>75</td>\n",
       "      <td>4.0</td>\n",
       "      <td>3.5</td>\n",
       "      <td>4.5</td>\n",
       "      <td>4.0</td>\n",
       "    </tr>\n",
       "    <tr>\n",
       "      <th>37498</th>\n",
       "      <td>11.20</td>\n",
       "      <td>4.388619</td>\n",
       "      <td>11</td>\n",
       "      <td>4.0</td>\n",
       "      <td>4.0</td>\n",
       "      <td>5.0</td>\n",
       "      <td>5.0</td>\n",
       "    </tr>\n",
       "    <tr>\n",
       "      <th>37499</th>\n",
       "      <td>8.50</td>\n",
       "      <td>3.930315</td>\n",
       "      <td>85</td>\n",
       "      <td>4.0</td>\n",
       "      <td>4.0</td>\n",
       "      <td>4.5</td>\n",
       "      <td>4.0</td>\n",
       "    </tr>\n",
       "  </tbody>\n",
       "</table>\n",
       "<p>37500 rows × 7 columns</p>\n",
       "</div>"
      ],
      "text/plain": [
       "       beer/ABV  beer/name  beer/style  review/appearance  review/aroma  \\\n",
       "0          5.00   3.798809          61                4.0           4.0   \n",
       "1         11.00   3.667611           4                4.0           3.5   \n",
       "2          4.70   3.635385          14                3.5           4.0   \n",
       "3          4.40   3.834741          35                3.0           3.0   \n",
       "4          4.40   3.871032          46                4.0           3.0   \n",
       "...         ...        ...         ...                ...           ...   \n",
       "37495      5.50   3.219836          58                4.0           3.5   \n",
       "37496      8.50   3.930315          85                4.5           4.0   \n",
       "37497      4.75   3.814056          75                4.0           3.5   \n",
       "37498     11.20   4.388619          11                4.0           4.0   \n",
       "37499      8.50   3.930315          85                4.0           4.0   \n",
       "\n",
       "       review/palate  review/taste  \n",
       "0                4.0           4.0  \n",
       "1                3.5           3.0  \n",
       "2                3.5           3.5  \n",
       "3                3.0           3.0  \n",
       "4                3.5           2.5  \n",
       "...              ...           ...  \n",
       "37495            3.5           3.5  \n",
       "37496            4.5           4.5  \n",
       "37497            4.5           4.0  \n",
       "37498            5.0           5.0  \n",
       "37499            4.5           4.0  \n",
       "\n",
       "[37500 rows x 7 columns]"
      ]
     },
     "execution_count": 21,
     "metadata": {},
     "output_type": "execute_result"
    }
   ],
   "source": [
    "X"
   ]
  },
  {
   "cell_type": "markdown",
   "id": "a1df9481",
   "metadata": {
    "execution": {
     "iopub.execute_input": "2023-10-05T11:07:54.551808Z",
     "iopub.status.busy": "2023-10-05T11:07:54.551314Z",
     "iopub.status.idle": "2023-10-05T11:07:54.559153Z",
     "shell.execute_reply": "2023-10-05T11:07:54.557532Z",
     "shell.execute_reply.started": "2023-10-05T11:07:54.551769Z"
    },
    "papermill": {
     "duration": 0.017125,
     "end_time": "2023-10-05T20:05:57.855346",
     "exception": false,
     "start_time": "2023-10-05T20:05:57.838221",
     "status": "completed"
    },
    "tags": []
   },
   "source": [
    "# <span style=\"font-family:cursive;text-align:center\">🧰 Model-1 (Random Forest)</span>"
   ]
  },
  {
   "cell_type": "code",
   "execution_count": 22,
   "id": "4fedab39",
   "metadata": {
    "execution": {
     "iopub.execute_input": "2023-10-05T20:05:57.892465Z",
     "iopub.status.busy": "2023-10-05T20:05:57.891501Z",
     "iopub.status.idle": "2023-10-05T20:06:03.369480Z",
     "shell.execute_reply": "2023-10-05T20:06:03.368211Z"
    },
    "papermill": {
     "duration": 5.49916,
     "end_time": "2023-10-05T20:06:03.371759",
     "exception": false,
     "start_time": "2023-10-05T20:05:57.872599",
     "status": "completed"
    },
    "tags": []
   },
   "outputs": [
    {
     "name": "stdout",
     "output_type": "stream",
     "text": [
      "CPU times: user 5.41 s, sys: 51.5 ms, total: 5.46 s\n",
      "Wall time: 5.47 s\n"
     ]
    }
   ],
   "source": [
    "%%time\n",
    "# Train a RandomForestRegressor\n",
    "model = RandomForestRegressor(random_state=1, criterion='squared_error', max_depth = 15, min_samples_split= 2)\n",
    "model.fit(X_train, y_train)\n",
    "\n",
    "# Make predictions on the testing set\n",
    "y_pred = model.predict(X_test)"
   ]
  },
  {
   "cell_type": "code",
   "execution_count": 23,
   "id": "0a6d8c1f",
   "metadata": {
    "execution": {
     "iopub.execute_input": "2023-10-05T20:06:03.410464Z",
     "iopub.status.busy": "2023-10-05T20:06:03.409689Z",
     "iopub.status.idle": "2023-10-05T20:06:03.419521Z",
     "shell.execute_reply": "2023-10-05T20:06:03.418326Z"
    },
    "papermill": {
     "duration": 0.032205,
     "end_time": "2023-10-05T20:06:03.421815",
     "exception": false,
     "start_time": "2023-10-05T20:06:03.389610",
     "status": "completed"
    },
    "tags": []
   },
   "outputs": [
    {
     "name": "stdout",
     "output_type": "stream",
     "text": [
      " Training data scores\n",
      " --------------------\n",
      " RMSE: 0.41019893641890554\n",
      " MAE: 0.31252973323000965\n",
      " MSE: 0.1682631674392013\n",
      " R2: 0.6579443924751018\n"
     ]
    }
   ],
   "source": [
    "# Evaluating the model\n",
    "print(\" Training data scores\\n\",\"--\"*10)\n",
    "print(\" RMSE:\", np.sqrt(mean_squared_error(y_test,y_pred)))\n",
    "print(\" MAE:\", mean_absolute_error(y_test,y_pred))\n",
    "print(\" MSE:\", mean_squared_error(y_test,y_pred))\n",
    "print(\" R2:\", r2_score(y_test,y_pred))"
   ]
  },
  {
   "cell_type": "code",
   "execution_count": 24,
   "id": "57b05eb2",
   "metadata": {
    "execution": {
     "iopub.execute_input": "2023-10-05T20:06:03.460428Z",
     "iopub.status.busy": "2023-10-05T20:06:03.459954Z",
     "iopub.status.idle": "2023-10-05T20:06:03.998624Z",
     "shell.execute_reply": "2023-10-05T20:06:03.997793Z"
    },
    "papermill": {
     "duration": 0.560351,
     "end_time": "2023-10-05T20:06:04.000532",
     "exception": false,
     "start_time": "2023-10-05T20:06:03.440181",
     "status": "completed"
    },
    "tags": []
   },
   "outputs": [
    {
     "name": "stderr",
     "output_type": "stream",
     "text": [
      "/opt/conda/lib/python3.10/site-packages/seaborn/axisgrid.py:118: UserWarning: The figure layout has changed to tight\n",
      "  self._figure.tight_layout(*args, **kwargs)\n"
     ]
    },
    {
     "data": {
      "text/plain": [
       "Text(0.5, 9.444444444444438, 'iteration')"
      ]
     },
     "execution_count": 24,
     "metadata": {},
     "output_type": "execute_result"
    },
    {
     "data": {
      "text/plain": [
       "<Figure size 700x500 with 0 Axes>"
      ]
     },
     "metadata": {},
     "output_type": "display_data"
    },
    {
     "data": {
      "image/png": "[encoded data removed]",
      "text/plain": [
       "<Figure size 500x500 with 1 Axes>"
      ]
     },
     "metadata": {},
     "output_type": "display_data"
    }
   ],
   "source": [
    "plt.figure(figsize = (7,5))\n",
    "sns.displot(y_test - y_pred)\n",
    "plt.title(\"Error Rate Distribution\");\n",
    "plt.ylabel(\"error\")\n",
    "plt.xlabel(\"iteration\")"
   ]
  },
  {
   "cell_type": "markdown",
   "id": "98bbab68",
   "metadata": {
    "papermill": {
     "duration": 0.018306,
     "end_time": "2023-10-05T20:06:04.040917",
     "exception": false,
     "start_time": "2023-10-05T20:06:04.022611",
     "status": "completed"
    },
    "tags": []
   },
   "source": [
    "# Hyperparameter Tuning"
   ]
  },
  {
   "cell_type": "code",
   "execution_count": 25,
   "id": "6e6d1ed0",
   "metadata": {
    "execution": {
     "iopub.execute_input": "2023-10-05T20:06:04.079447Z",
     "iopub.status.busy": "2023-10-05T20:06:04.078725Z",
     "iopub.status.idle": "2023-10-05T20:25:54.814115Z",
     "shell.execute_reply": "2023-10-05T20:25:54.812313Z"
    },
    "papermill": {
     "duration": 1190.776854,
     "end_time": "2023-10-05T20:25:54.835646",
     "exception": false,
     "start_time": "2023-10-05T20:06:04.058792",
     "status": "completed"
    },
    "tags": []
   },
   "outputs": [
    {
     "name": "stdout",
     "output_type": "stream",
     "text": [
      "Best parameters: {'max_depth': 10, 'min_samples_split': 10, 'n_estimators': 200}\n"
     ]
    }
   ],
   "source": [
    "from sklearn.model_selection import GridSearchCV\n",
    "from sklearn.ensemble import RandomForestRegressor\n",
    "\n",
    "# Define the parameter grid\n",
    "param_grid = {\n",
    "    'n_estimators': [50, 100, 200],\n",
    "    'max_depth': [None, 10, 20, 30],\n",
    "    'min_samples_split': [2,5,10]\n",
    "}\n",
    "\n",
    "# Initialize the model\n",
    "grid_search = GridSearchCV(model, param_grid, cv=5, scoring='neg_mean_squared_error')\n",
    "\n",
    "# Fit GridSearchCV\n",
    "grid_search.fit(X, y)\n",
    "\n",
    "# Get the best parameters\n",
    "best_params = grid_search.best_params_\n",
    "print(f'Best parameters: {best_params}')"
   ]
  },
  {
   "cell_type": "markdown",
   "id": "2c12b1e8",
   "metadata": {
    "execution": {
     "iopub.execute_input": "2023-10-05T11:06:30.824460Z",
     "iopub.status.busy": "2023-10-05T11:06:30.824091Z",
     "iopub.status.idle": "2023-10-05T11:06:30.829327Z",
     "shell.execute_reply": "2023-10-05T11:06:30.828293Z",
     "shell.execute_reply.started": "2023-10-05T11:06:30.824434Z"
    },
    "papermill": {
     "duration": 0.019702,
     "end_time": "2023-10-05T20:25:54.874406",
     "exception": false,
     "start_time": "2023-10-05T20:25:54.854704",
     "status": "completed"
    },
    "tags": []
   },
   "source": [
    "# Training best params and Evalution"
   ]
  },
  {
   "cell_type": "code",
   "execution_count": 26,
   "id": "0c041d30",
   "metadata": {
    "execution": {
     "iopub.execute_input": "2023-10-05T20:25:54.913192Z",
     "iopub.status.busy": "2023-10-05T20:25:54.912728Z",
     "iopub.status.idle": "2023-10-05T20:26:02.559757Z",
     "shell.execute_reply": "2023-10-05T20:26:02.558101Z"
    },
    "papermill": {
     "duration": 7.669576,
     "end_time": "2023-10-05T20:26:02.562063",
     "exception": false,
     "start_time": "2023-10-05T20:25:54.892487",
     "status": "completed"
    },
    "tags": []
   },
   "outputs": [
    {
     "name": "stdout",
     "output_type": "stream",
     "text": [
      "RMSE: 0.39755782269558615\n",
      "MAE: 0.3028582243110388\n",
      "Rsquared: 0.678701823032104\n",
      "MSE: 0.1580522223864551\n"
     ]
    }
   ],
   "source": [
    "# Retrain the model with the best parameters\n",
    "best_model = RandomForestRegressor(n_estimators=best_params['n_estimators'],\n",
    "                                  max_depth=best_params['max_depth'],\n",
    "                                  min_samples_split=best_params['min_samples_split'], random_state=42)\n",
    "best_model.fit(X_train, y_train)\n",
    "\n",
    "# Make predictions on the testing set\n",
    "y_pred = best_model.predict(X_test)\n",
    "\n",
    "# Calculate RMSE\n",
    "rmse = mean_squared_error(y_test, y_pred, squared=False)\n",
    "print(f'RMSE: {rmse}')\n",
    "\n",
    "# Calculate MAE\n",
    "mae = mean_absolute_error(y_test, y_pred)\n",
    "print(f'MAE: {mae}')\n",
    "\n",
    "# Calculate R-squared\n",
    "r2 = r2_score(y_test, y_pred)\n",
    "print(f'Rsquared: {r2}')\n",
    "\n",
    "mse = mean_squared_error(y_test,y_pred)\n",
    "print(f'MSE: {mse}')"
   ]
  },
  {
   "cell_type": "code",
   "execution_count": 27,
   "id": "3fdfbad2",
   "metadata": {
    "execution": {
     "iopub.execute_input": "2023-10-05T20:26:02.599840Z",
     "iopub.status.busy": "2023-10-05T20:26:02.599480Z",
     "iopub.status.idle": "2023-10-05T20:26:03.138852Z",
     "shell.execute_reply": "2023-10-05T20:26:03.137680Z"
    },
    "papermill": {
     "duration": 0.56111,
     "end_time": "2023-10-05T20:26:03.141206",
     "exception": false,
     "start_time": "2023-10-05T20:26:02.580096",
     "status": "completed"
    },
    "tags": []
   },
   "outputs": [
    {
     "name": "stderr",
     "output_type": "stream",
     "text": [
      "/opt/conda/lib/python3.10/site-packages/seaborn/axisgrid.py:118: UserWarning: The figure layout has changed to tight\n",
      "  self._figure.tight_layout(*args, **kwargs)\n"
     ]
    },
    {
     "data": {
      "text/plain": [
       "Text(0.5, 9.444444444444438, 'frequency')"
      ]
     },
     "execution_count": 27,
     "metadata": {},
     "output_type": "execute_result"
    },
    {
     "data": {
      "text/plain": [
       "<Figure size 700x500 with 0 Axes>"
      ]
     },
     "metadata": {},
     "output_type": "display_data"
    },
    {
     "data": {
      "image/png": "[encoded data removed]",
      "text/plain": [
       "<Figure size 500x500 with 1 Axes>"
      ]
     },
     "metadata": {},
     "output_type": "display_data"
    }
   ],
   "source": [
    "plt.figure(figsize = (7,5))\n",
    "sns.displot(y_test - y_pred)\n",
    "plt.title(\"Error Rate Distribution\");\n",
    "plt.ylabel(\"error\")\n",
    "plt.xlabel(\"frequency\")"
   ]
  },
  {
   "cell_type": "markdown",
   "id": "ce72664e",
   "metadata": {
    "papermill": {
     "duration": 0.01984,
     "end_time": "2023-10-05T20:26:03.182488",
     "exception": false,
     "start_time": "2023-10-05T20:26:03.162648",
     "status": "completed"
    },
    "tags": []
   },
   "source": [
    "# Model-2 (Lasso Regression)"
   ]
  },
  {
   "cell_type": "code",
   "execution_count": 28,
   "id": "141b3b60",
   "metadata": {
    "execution": {
     "iopub.execute_input": "2023-10-05T20:26:03.225749Z",
     "iopub.status.busy": "2023-10-05T20:26:03.225347Z",
     "iopub.status.idle": "2023-10-05T20:26:03.717258Z",
     "shell.execute_reply": "2023-10-05T20:26:03.715962Z"
    },
    "papermill": {
     "duration": 0.517125,
     "end_time": "2023-10-05T20:26:03.720170",
     "exception": false,
     "start_time": "2023-10-05T20:26:03.203045",
     "status": "completed"
    },
    "tags": []
   },
   "outputs": [],
   "source": [
    "df = pd.read_csv('/kaggle/input/beers/beer_train.csv')"
   ]
  },
  {
   "cell_type": "code",
   "execution_count": 29,
   "id": "6857d29e",
   "metadata": {
    "execution": {
     "iopub.execute_input": "2023-10-05T20:26:03.765380Z",
     "iopub.status.busy": "2023-10-05T20:26:03.764483Z",
     "iopub.status.idle": "2023-10-05T20:26:03.779698Z",
     "shell.execute_reply": "2023-10-05T20:26:03.778083Z"
    },
    "papermill": {
     "duration": 0.042428,
     "end_time": "2023-10-05T20:26:03.782746",
     "exception": false,
     "start_time": "2023-10-05T20:26:03.740318",
     "status": "completed"
    },
    "tags": []
   },
   "outputs": [],
   "source": [
    "df['review/text'] = df['review/text'].fillna('')"
   ]
  },
  {
   "cell_type": "code",
   "execution_count": 30,
   "id": "227ccd0b",
   "metadata": {
    "execution": {
     "iopub.execute_input": "2023-10-05T20:26:03.826510Z",
     "iopub.status.busy": "2023-10-05T20:26:03.826027Z",
     "iopub.status.idle": "2023-10-05T20:26:03.943937Z",
     "shell.execute_reply": "2023-10-05T20:26:03.942539Z"
    },
    "papermill": {
     "duration": 0.143387,
     "end_time": "2023-10-05T20:26:03.947168",
     "exception": false,
     "start_time": "2023-10-05T20:26:03.803781",
     "status": "completed"
    },
    "tags": []
   },
   "outputs": [],
   "source": [
    "# Convert beer style to numerical values\n",
    "encoder = LabelEncoder()\n",
    "df['beer/style'] = encoder.fit_transform(df['beer/style'])\n",
    "\n",
    "# Extract year from review time\n",
    "df['review/year'] = pd.to_datetime(df['review/timeUnix'], unit='s').dt.year\n",
    "\n",
    "# Calculate the length of each review\n",
    "df['review/length'] = df['review/text'].apply(len)\n",
    "\n",
    "# Target encode 'beer/name'\n",
    "encoder = TargetEncoder()\n",
    "df['beer/name'] = encoder.fit_transform(df['beer/name'], df['review/overall'])\n",
    "\n",
    "# Drop unnecessary columns\n",
    "df = df.drop(columns=['index', 'beer/beerId', 'beer/brewerId', 'user/birthdayRaw', 'user/birthdayUnix', 'user/profileName', 'user/gender', 'review/text', 'review/timeStruct'])"
   ]
  },
  {
   "cell_type": "code",
   "execution_count": 31,
   "id": "c5603798",
   "metadata": {
    "execution": {
     "iopub.execute_input": "2023-10-05T20:26:03.991843Z",
     "iopub.status.busy": "2023-10-05T20:26:03.990849Z",
     "iopub.status.idle": "2023-10-05T20:26:04.010530Z",
     "shell.execute_reply": "2023-10-05T20:26:04.007949Z"
    },
    "papermill": {
     "duration": 0.044958,
     "end_time": "2023-10-05T20:26:04.013572",
     "exception": false,
     "start_time": "2023-10-05T20:26:03.968614",
     "status": "completed"
    },
    "tags": []
   },
   "outputs": [],
   "source": [
    "# Split the data into training and test sets \n",
    "X = df.drop(columns = ['review/overall', 'review/timeUnix', 'review/year', 'review/length', 'user/ageInSeconds'], axis=1)\n",
    "y = df['review/overall']\n",
    "X_train, X_test, y_train, y_test = train_test_split(X, y, test_size=0.2, random_state=42)"
   ]
  },
  {
   "cell_type": "code",
   "execution_count": 32,
   "id": "a91e7cba",
   "metadata": {
    "execution": {
     "iopub.execute_input": "2023-10-05T20:26:04.055635Z",
     "iopub.status.busy": "2023-10-05T20:26:04.054768Z",
     "iopub.status.idle": "2023-10-05T20:26:04.081901Z",
     "shell.execute_reply": "2023-10-05T20:26:04.080248Z"
    },
    "papermill": {
     "duration": 0.066385,
     "end_time": "2023-10-05T20:26:04.099828",
     "exception": false,
     "start_time": "2023-10-05T20:26:04.033443",
     "status": "completed"
    },
    "tags": []
   },
   "outputs": [],
   "source": [
    "lasso = Lasso()\n",
    "lasso.fit(X_train, y_train)\n",
    "y_pred_ = lasso.predict(X_test)"
   ]
  },
  {
   "cell_type": "code",
   "execution_count": 33,
   "id": "f323a6bf",
   "metadata": {
    "execution": {
     "iopub.execute_input": "2023-10-05T20:26:04.222610Z",
     "iopub.status.busy": "2023-10-05T20:26:04.222181Z",
     "iopub.status.idle": "2023-10-05T20:26:04.234403Z",
     "shell.execute_reply": "2023-10-05T20:26:04.232772Z"
    },
    "papermill": {
     "duration": 0.034657,
     "end_time": "2023-10-05T20:26:04.237099",
     "exception": false,
     "start_time": "2023-10-05T20:26:04.202442",
     "status": "completed"
    },
    "tags": []
   },
   "outputs": [
    {
     "name": "stdout",
     "output_type": "stream",
     "text": [
      " Training data scores\n",
      " --------------------\n",
      " RMSE: 0.7008173931072689\n",
      " MAE: 0.5241039389361674\n",
      " MSE: 0.4911450184816682\n",
      " R2: 0.0015705145912126017\n"
     ]
    }
   ],
   "source": [
    "print(\" Training data scores\\n\",\"--\"*10)\n",
    "print(\" RMSE:\", np.sqrt(mean_squared_error(y_test,y_pred_)))\n",
    "print(\" MAE:\", mean_absolute_error(y_test,y_pred_))\n",
    "print(\" MSE:\", mean_squared_error(y_test,y_pred_))\n",
    "print(\" R2:\", r2_score(y_test,y_pred_))"
   ]
  },
  {
   "cell_type": "code",
   "execution_count": 34,
   "id": "eda11cc7",
   "metadata": {
    "execution": {
     "iopub.execute_input": "2023-10-05T20:26:04.277666Z",
     "iopub.status.busy": "2023-10-05T20:26:04.277199Z",
     "iopub.status.idle": "2023-10-05T20:26:04.793709Z",
     "shell.execute_reply": "2023-10-05T20:26:04.792408Z"
    },
    "papermill": {
     "duration": 0.539634,
     "end_time": "2023-10-05T20:26:04.796336",
     "exception": false,
     "start_time": "2023-10-05T20:26:04.256702",
     "status": "completed"
    },
    "tags": []
   },
   "outputs": [
    {
     "name": "stderr",
     "output_type": "stream",
     "text": [
      "/opt/conda/lib/python3.10/site-packages/seaborn/axisgrid.py:118: UserWarning: The figure layout has changed to tight\n",
      "  self._figure.tight_layout(*args, **kwargs)\n"
     ]
    },
    {
     "data": {
      "text/plain": [
       "Text(0.5, 9.444444444444438, 'frequency')"
      ]
     },
     "execution_count": 34,
     "metadata": {},
     "output_type": "execute_result"
    },
    {
     "data": {
      "text/plain": [
       "<Figure size 700x500 with 0 Axes>"
      ]
     },
     "metadata": {},
     "output_type": "display_data"
    },
    {
     "data": {
      "image/png": "[encoded data removed]",
      "text/plain": [
       "<Figure size 500x500 with 1 Axes>"
      ]
     },
     "metadata": {},
     "output_type": "display_data"
    }
   ],
   "source": [
    "plt.figure(figsize = (7,5))\n",
    "sns.displot(y_test - y_pred_)\n",
    "plt.title(\"Error Rate Distribution\");\n",
    "plt.ylabel(\"error\")\n",
    "plt.xlabel(\"frequency\")"
   ]
  },
  {
   "cell_type": "markdown",
   "id": "aa3afaf1",
   "metadata": {
    "papermill": {
     "duration": 0.020256,
     "end_time": "2023-10-05T20:26:04.837703",
     "exception": false,
     "start_time": "2023-10-05T20:26:04.817447",
     "status": "completed"
    },
    "tags": []
   },
   "source": [
    "# Model-3 (Using LSTM for predicting the Overall Rating)"
   ]
  },
  {
   "cell_type": "code",
   "execution_count": 35,
   "id": "986cb82c",
   "metadata": {
    "execution": {
     "iopub.execute_input": "2023-10-05T20:26:04.881748Z",
     "iopub.status.busy": "2023-10-05T20:26:04.881361Z",
     "iopub.status.idle": "2023-10-05T20:26:05.365210Z",
     "shell.execute_reply": "2023-10-05T20:26:05.364036Z"
    },
    "papermill": {
     "duration": 0.509758,
     "end_time": "2023-10-05T20:26:05.368097",
     "exception": false,
     "start_time": "2023-10-05T20:26:04.858339",
     "status": "completed"
    },
    "tags": []
   },
   "outputs": [],
   "source": [
    "df = pd.read_csv('/kaggle/input/beers/beer_train.csv')"
   ]
  },
  {
   "cell_type": "code",
   "execution_count": 36,
   "id": "fdcbc22c",
   "metadata": {
    "execution": {
     "iopub.execute_input": "2023-10-05T20:26:05.415163Z",
     "iopub.status.busy": "2023-10-05T20:26:05.414781Z",
     "iopub.status.idle": "2023-10-05T20:26:05.422306Z",
     "shell.execute_reply": "2023-10-05T20:26:05.420846Z"
    },
    "papermill": {
     "duration": 0.035415,
     "end_time": "2023-10-05T20:26:05.424458",
     "exception": false,
     "start_time": "2023-10-05T20:26:05.389043",
     "status": "completed"
    },
    "tags": []
   },
   "outputs": [],
   "source": [
    "def missing_values_table(df):\n",
    "    # Total missing values by column\n",
    "    mis_val = df.isnull().sum()\n",
    "\n",
    "    # Percentage of missing values by column\n",
    "    mis_val_percent = 100 * df.isnull().sum() / len(df)\n",
    "\n",
    "    # build a table with the thw columns\n",
    "    mis_val_table = pd.concat([mis_val, mis_val_percent], axis=1)\n",
    "\n",
    "    # Rename the columns\n",
    "    mis_val_table_ren_columns = mis_val_table.rename(\n",
    "    columns = {0 : 'Missing Values', 1 : '% of Total Values'})\n",
    "\n",
    "    # Sort the table by percentage of missing descending\n",
    "    mis_val_table_ren_columns = mis_val_table_ren_columns[\n",
    "        mis_val_table_ren_columns.iloc[:,1] != 0].sort_values(\n",
    "    '% of Total Values', ascending=False).round(1)\n",
    "\n",
    "    # Print some summary information\n",
    "    print(\"Your selected dataframe has \" + str(df.shape[1]) + \"columns.\\n\"\n",
    "        \"There are \" + str(mis_val_table_ren_columns.shape[0]) +\n",
    "          \" columns that have missing values.\")\n",
    "\n",
    "    # Return the dataframe with missing information\n",
    "    return mis_val_table_ren_columns"
   ]
  },
  {
   "cell_type": "code",
   "execution_count": 37,
   "id": "0c7323eb",
   "metadata": {
    "execution": {
     "iopub.execute_input": "2023-10-05T20:26:05.472219Z",
     "iopub.status.busy": "2023-10-05T20:26:05.470853Z",
     "iopub.status.idle": "2023-10-05T20:26:05.606102Z",
     "shell.execute_reply": "2023-10-05T20:26:05.605346Z"
    },
    "papermill": {
     "duration": 0.162749,
     "end_time": "2023-10-05T20:26:05.608248",
     "exception": false,
     "start_time": "2023-10-05T20:26:05.445499",
     "status": "completed"
    },
    "tags": []
   },
   "outputs": [
    {
     "name": "stdout",
     "output_type": "stream",
     "text": [
      "Columns with null values: \n",
      "['review/text', 'user/ageInSeconds', 'user/birthdayRaw', 'user/birthdayUnix', 'user/gender', 'user/profileName']\n",
      "===========================================\n",
      "Your selected dataframe has 19columns.\n",
      "There are 6 columns that have missing values.\n"
     ]
    },
    {
     "data": {
      "text/html": [
       "<style type=\"text/css\">\n",
       "#T_94691_row0_col0, #T_94691_row0_col1, #T_94691_row1_col0, #T_94691_row1_col1, #T_94691_row2_col0, #T_94691_row2_col1 {\n",
       "  background-color: #08306b;\n",
       "  color: #f1f1f1;\n",
       "}\n",
       "#T_94691_row3_col0, #T_94691_row3_col1 {\n",
       "  background-color: #2171b5;\n",
       "  color: #f1f1f1;\n",
       "}\n",
       "#T_94691_row4_col0, #T_94691_row4_col1, #T_94691_row5_col0, #T_94691_row5_col1 {\n",
       "  background-color: #f7fbff;\n",
       "  color: #000000;\n",
       "}\n",
       "</style>\n",
       "<table id=\"T_94691\">\n",
       "  <thead>\n",
       "    <tr>\n",
       "      <th class=\"blank level0\" >&nbsp;</th>\n",
       "      <th id=\"T_94691_level0_col0\" class=\"col_heading level0 col0\" >Missing Values</th>\n",
       "      <th id=\"T_94691_level0_col1\" class=\"col_heading level0 col1\" >% of Total Values</th>\n",
       "    </tr>\n",
       "  </thead>\n",
       "  <tbody>\n",
       "    <tr>\n",
       "      <th id=\"T_94691_level0_row0\" class=\"row_heading level0 row0\" >user/ageInSeconds</th>\n",
       "      <td id=\"T_94691_row0_col0\" class=\"data row0 col0\" >29644</td>\n",
       "      <td id=\"T_94691_row0_col1\" class=\"data row0 col1\" >79.100000</td>\n",
       "    </tr>\n",
       "    <tr>\n",
       "      <th id=\"T_94691_level0_row1\" class=\"row_heading level0 row1\" >user/birthdayRaw</th>\n",
       "      <td id=\"T_94691_row1_col0\" class=\"data row1 col0\" >29644</td>\n",
       "      <td id=\"T_94691_row1_col1\" class=\"data row1 col1\" >79.100000</td>\n",
       "    </tr>\n",
       "    <tr>\n",
       "      <th id=\"T_94691_level0_row2\" class=\"row_heading level0 row2\" >user/birthdayUnix</th>\n",
       "      <td id=\"T_94691_row2_col0\" class=\"data row2 col0\" >29644</td>\n",
       "      <td id=\"T_94691_row2_col1\" class=\"data row2 col1\" >79.100000</td>\n",
       "    </tr>\n",
       "    <tr>\n",
       "      <th id=\"T_94691_level0_row3\" class=\"row_heading level0 row3\" >user/gender</th>\n",
       "      <td id=\"T_94691_row3_col0\" class=\"data row3 col0\" >22186</td>\n",
       "      <td id=\"T_94691_row3_col1\" class=\"data row3 col1\" >59.200000</td>\n",
       "    </tr>\n",
       "    <tr>\n",
       "      <th id=\"T_94691_level0_row4\" class=\"row_heading level0 row4\" >review/text</th>\n",
       "      <td id=\"T_94691_row4_col0\" class=\"data row4 col0\" >10</td>\n",
       "      <td id=\"T_94691_row4_col1\" class=\"data row4 col1\" >0.000000</td>\n",
       "    </tr>\n",
       "    <tr>\n",
       "      <th id=\"T_94691_level0_row5\" class=\"row_heading level0 row5\" >user/profileName</th>\n",
       "      <td id=\"T_94691_row5_col0\" class=\"data row5 col0\" >5</td>\n",
       "      <td id=\"T_94691_row5_col1\" class=\"data row5 col1\" >0.000000</td>\n",
       "    </tr>\n",
       "  </tbody>\n",
       "</table>\n"
      ],
      "text/plain": [
       "<pandas.io.formats.style.Styler at 0x7d58e4bc5c60>"
      ]
     },
     "execution_count": 37,
     "metadata": {},
     "output_type": "execute_result"
    }
   ],
   "source": [
    "print(\"Columns with null values: \")\n",
    "print(list(df.columns[df.isnull().any()]))\n",
    "print('===========================================')\n",
    "# Missing values for training data\n",
    "missing_values = missing_values_table(df)\n",
    "missing_values[:20].style.background_gradient(cmap='Blues')"
   ]
  },
  {
   "cell_type": "code",
   "execution_count": 38,
   "id": "765795c9",
   "metadata": {
    "execution": {
     "iopub.execute_input": "2023-10-05T20:26:05.656586Z",
     "iopub.status.busy": "2023-10-05T20:26:05.656174Z",
     "iopub.status.idle": "2023-10-05T20:26:05.754796Z",
     "shell.execute_reply": "2023-10-05T20:26:05.753303Z"
    },
    "papermill": {
     "duration": 0.12638,
     "end_time": "2023-10-05T20:26:05.757338",
     "exception": false,
     "start_time": "2023-10-05T20:26:05.630958",
     "status": "completed"
    },
    "tags": []
   },
   "outputs": [
    {
     "data": {
      "text/plain": [
       "index                37500\n",
       "beer/ABV               126\n",
       "beer/beerId           1731\n",
       "beer/brewerId          212\n",
       "beer/name             1688\n",
       "beer/style              95\n",
       "review/appearance       10\n",
       "review/aroma             9\n",
       "review/overall          10\n",
       "review/palate            9\n",
       "review/taste             9\n",
       "review/text          37482\n",
       "review/timeStruct    37490\n",
       "review/timeUnix      37490\n",
       "user/ageInSeconds     1471\n",
       "user/birthdayRaw      1432\n",
       "user/birthdayUnix     1432\n",
       "user/gender              2\n",
       "user/profileName      7441\n",
       "dtype: int64"
      ]
     },
     "execution_count": 38,
     "metadata": {},
     "output_type": "execute_result"
    }
   ],
   "source": [
    "df.nunique()"
   ]
  },
  {
   "cell_type": "code",
   "execution_count": 39,
   "id": "f01e06d3",
   "metadata": {
    "execution": {
     "iopub.execute_input": "2023-10-05T20:26:05.803468Z",
     "iopub.status.busy": "2023-10-05T20:26:05.803001Z",
     "iopub.status.idle": "2023-10-05T20:26:05.818395Z",
     "shell.execute_reply": "2023-10-05T20:26:05.816942Z"
    },
    "papermill": {
     "duration": 0.041941,
     "end_time": "2023-10-05T20:26:05.821725",
     "exception": false,
     "start_time": "2023-10-05T20:26:05.779784",
     "status": "completed"
    },
    "tags": []
   },
   "outputs": [],
   "source": [
    "df.drop(columns = ['index', 'user/ageInSeconds', 'user/birthdayRaw', 'user/birthdayUnix', 'user/gender', 'user/profileName', 'review/timeStruct', 'review/timeUnix'], axis = 1, inplace=True)"
   ]
  },
  {
   "cell_type": "code",
   "execution_count": 40,
   "id": "d7d79f4b",
   "metadata": {
    "execution": {
     "iopub.execute_input": "2023-10-05T20:26:05.867701Z",
     "iopub.status.busy": "2023-10-05T20:26:05.866935Z",
     "iopub.status.idle": "2023-10-05T20:26:05.885502Z",
     "shell.execute_reply": "2023-10-05T20:26:05.884523Z"
    },
    "papermill": {
     "duration": 0.043352,
     "end_time": "2023-10-05T20:26:05.887816",
     "exception": false,
     "start_time": "2023-10-05T20:26:05.844464",
     "status": "completed"
    },
    "tags": []
   },
   "outputs": [
    {
     "data": {
      "text/plain": [
       "beer/ABV              0\n",
       "beer/beerId           0\n",
       "beer/brewerId         0\n",
       "beer/name             0\n",
       "beer/style            0\n",
       "review/appearance     0\n",
       "review/aroma          0\n",
       "review/overall        0\n",
       "review/palate         0\n",
       "review/taste          0\n",
       "review/text          10\n",
       "dtype: int64"
      ]
     },
     "execution_count": 40,
     "metadata": {},
     "output_type": "execute_result"
    }
   ],
   "source": [
    "df.isna().sum()"
   ]
  },
  {
   "cell_type": "code",
   "execution_count": 41,
   "id": "baa8919e",
   "metadata": {
    "execution": {
     "iopub.execute_input": "2023-10-05T20:26:05.931550Z",
     "iopub.status.busy": "2023-10-05T20:26:05.930866Z",
     "iopub.status.idle": "2023-10-05T20:26:05.950667Z",
     "shell.execute_reply": "2023-10-05T20:26:05.949715Z"
    },
    "papermill": {
     "duration": 0.044188,
     "end_time": "2023-10-05T20:26:05.952830",
     "exception": false,
     "start_time": "2023-10-05T20:26:05.908642",
     "status": "completed"
    },
    "tags": []
   },
   "outputs": [
    {
     "data": {
      "text/plain": [
       "(37490, 11)"
      ]
     },
     "execution_count": 41,
     "metadata": {},
     "output_type": "execute_result"
    }
   ],
   "source": [
    "df.dropna(axis=0, how=\"any\").shape"
   ]
  },
  {
   "cell_type": "code",
   "execution_count": 42,
   "id": "70c3e567",
   "metadata": {
    "execution": {
     "iopub.execute_input": "2023-10-05T20:26:05.999045Z",
     "iopub.status.busy": "2023-10-05T20:26:05.998430Z",
     "iopub.status.idle": "2023-10-05T20:26:07.055222Z",
     "shell.execute_reply": "2023-10-05T20:26:07.053815Z"
    },
    "papermill": {
     "duration": 1.083499,
     "end_time": "2023-10-05T20:26:07.057995",
     "exception": false,
     "start_time": "2023-10-05T20:26:05.974496",
     "status": "completed"
    },
    "tags": []
   },
   "outputs": [
    {
     "name": "stdout",
     "output_type": "stream",
     "text": [
      "[nltk_data] Downloading package punkt to /usr/share/nltk_data...\n",
      "[nltk_data]   Package punkt is already up-to-date!\n",
      "[nltk_data] Downloading package stopwords to /usr/share/nltk_data...\n",
      "[nltk_data]   Package stopwords is already up-to-date!\n"
     ]
    }
   ],
   "source": [
    "# Download NLTK resources\n",
    "nltk.download('punkt')\n",
    "nltk.download('stopwords')\n",
    "\n",
    "# Load spaCy language model\n",
    "nlp = spacy.load(\"en_core_web_sm\")\n",
    "\n",
    "# Define the text preprocessing function\n",
    "def preprocess(text):\n",
    "    if isinstance(text, str):  # Check if the text is a non-null string\n",
    "        # Convert text to lowercase\n",
    "        text = text.lower()\n",
    "        # Remove punctuation and numbers\n",
    "        text = ''.join([c for c in text if c.isalpha() or c.isspace()])\n",
    "        # Tokenize the text using NLTK\n",
    "        tokens = nltk.word_tokenize(text)\n",
    "        # Remove stopwords using NLTK\n",
    "        stopwords = set(nltk.corpus.stopwords.words('english'))\n",
    "        tokens = [t for t in tokens if t not in stopwords]\n",
    "        # Lemmatize the tokens using spaCy\n",
    "        tokens = [nlp(t)[0].lemma_ for t in tokens]\n",
    "        # Join the tokens back to a text\n",
    "        text = ' '.join(tokens)\n",
    "        # Return the preprocessed text\n",
    "        return text\n",
    "    else:\n",
    "        return ''  # Return an empty string for NaN values"
   ]
  },
  {
   "cell_type": "code",
   "execution_count": 43,
   "id": "859d5324",
   "metadata": {
    "execution": {
     "iopub.execute_input": "2023-10-05T20:26:07.101349Z",
     "iopub.status.busy": "2023-10-05T20:26:07.100935Z",
     "iopub.status.idle": "2023-10-05T20:26:14.985763Z",
     "shell.execute_reply": "2023-10-05T20:26:14.984338Z"
    },
    "papermill": {
     "duration": 7.909142,
     "end_time": "2023-10-05T20:26:14.988786",
     "exception": false,
     "start_time": "2023-10-05T20:26:07.079644",
     "status": "completed"
    },
    "tags": []
   },
   "outputs": [],
   "source": [
    "# Define a list of text feature columns to preprocess\n",
    "text_feature_columns = ['beer/name', 'beer/style', 'review/text']\n",
    "\n",
    "# Combine the preprocessed text features into a single text column\n",
    "df['combined_text'] = df[text_feature_columns].apply(lambda x: ' '.join(x.dropna().astype(str)), axis=1)\n",
    "\n",
    "# Load the tokenizer\n",
    "with open('/kaggle/input/models/tokenizer.pickle', 'rb') as handle:\n",
    "  tokenizer = pickle.load(handle)\n",
    "\n",
    "# Convert text to sequences and pad sequences\n",
    "sequences = tokenizer.texts_to_sequences(df['combined_text'])\n",
    "data = pad_sequences(sequences)"
   ]
  },
  {
   "cell_type": "code",
   "execution_count": 44,
   "id": "e4ea7d33",
   "metadata": {
    "execution": {
     "iopub.execute_input": "2023-10-05T20:26:15.041617Z",
     "iopub.status.busy": "2023-10-05T20:26:15.040542Z",
     "iopub.status.idle": "2023-10-05T20:26:15.090412Z",
     "shell.execute_reply": "2023-10-05T20:26:15.089625Z"
    },
    "papermill": {
     "duration": 0.076312,
     "end_time": "2023-10-05T20:26:15.093048",
     "exception": false,
     "start_time": "2023-10-05T20:26:15.016736",
     "status": "completed"
    },
    "tags": []
   },
   "outputs": [],
   "source": [
    "X = data\n",
    "\n",
    "# Prepare labels\n",
    "y = df['review/overall']\n",
    "\n",
    "# Split data into training and test sets\n",
    "X_train, X_test, y_train, y_test = train_test_split(X, y, test_size=0.2, random_state=42)"
   ]
  },
  {
   "cell_type": "code",
   "execution_count": 45,
   "id": "851198b6",
   "metadata": {
    "execution": {
     "iopub.execute_input": "2023-10-05T20:26:15.137485Z",
     "iopub.status.busy": "2023-10-05T20:26:15.137080Z",
     "iopub.status.idle": "2023-10-05T20:26:15.705447Z",
     "shell.execute_reply": "2023-10-05T20:26:15.704150Z"
    },
    "papermill": {
     "duration": 0.593612,
     "end_time": "2023-10-05T20:26:15.707588",
     "exception": false,
     "start_time": "2023-10-05T20:26:15.113976",
     "status": "completed"
    },
    "tags": []
   },
   "outputs": [
    {
     "name": "stdout",
     "output_type": "stream",
     "text": [
      "Model: \"sequential\"\n",
      "_________________________________________________________________\n",
      " Layer (type)                Output Shape              Param #   \n",
      "=================================================================\n",
      " embedding (Embedding)       (None, 522, 100)          500000    \n",
      "                                                                 \n",
      " lstm (LSTM)                 (None, 100)               80400     \n",
      "                                                                 \n",
      " dense (Dense)               (None, 1)                 101       \n",
      "                                                                 \n",
      "=================================================================\n",
      "Total params: 580,501\n",
      "Trainable params: 580,501\n",
      "Non-trainable params: 0\n",
      "_________________________________________________________________\n"
     ]
    }
   ],
   "source": [
    "# Define the model\n",
    "model = Sequential()\n",
    "model.add(Embedding(input_dim=5000, output_dim=100, input_length=X_train.shape[1]))\n",
    "model.add(LSTM(100))\n",
    "model.add(Dense(1, activation='linear'))\n",
    "\n",
    "# Compile the model\n",
    "model.compile(loss='mean_squared_error', optimizer='adam')\n",
    "model.summary()"
   ]
  },
  {
   "cell_type": "code",
   "execution_count": 46,
   "id": "f48b7b88",
   "metadata": {
    "execution": {
     "iopub.execute_input": "2023-10-05T20:26:15.752938Z",
     "iopub.status.busy": "2023-10-05T20:26:15.752528Z",
     "iopub.status.idle": "2023-10-06T01:28:40.522987Z",
     "shell.execute_reply": "2023-10-06T01:28:40.521278Z"
    },
    "papermill": {
     "duration": 18144.796152,
     "end_time": "2023-10-06T01:28:40.525738",
     "exception": false,
     "start_time": "2023-10-05T20:26:15.729586",
     "status": "completed"
    },
    "tags": []
   },
   "outputs": [
    {
     "name": "stdout",
     "output_type": "stream",
     "text": [
      "Epoch 1/40\n",
      "938/938 [==============================] - 512s 543ms/step - loss: 0.5474 - val_loss: 0.2982\n",
      "Epoch 2/40\n",
      "938/938 [==============================] - 511s 545ms/step - loss: 0.2709 - val_loss: 0.2760\n",
      "Epoch 3/40\n",
      "938/938 [==============================] - 513s 547ms/step - loss: 0.2304 - val_loss: 0.2750\n",
      "Epoch 4/40\n",
      "938/938 [==============================] - 512s 545ms/step - loss: 0.2023 - val_loss: 0.2822\n",
      "Epoch 5/40\n",
      "938/938 [==============================] - 508s 542ms/step - loss: 0.1844 - val_loss: 0.2796\n",
      "Epoch 6/40\n",
      "938/938 [==============================] - 509s 542ms/step - loss: 0.1699 - val_loss: 0.2851\n",
      "Epoch 7/40\n",
      "938/938 [==============================] - 509s 543ms/step - loss: 0.1557 - val_loss: 0.2947\n",
      "Epoch 8/40\n",
      "938/938 [==============================] - 447s 476ms/step - loss: 0.1430 - val_loss: 0.3116\n",
      "Epoch 9/40\n",
      "938/938 [==============================] - 432s 461ms/step - loss: 0.1327 - val_loss: 0.3208\n",
      "Epoch 10/40\n",
      "938/938 [==============================] - 432s 460ms/step - loss: 0.1200 - val_loss: 0.3354\n",
      "Epoch 11/40\n",
      "938/938 [==============================] - 434s 463ms/step - loss: 0.1103 - val_loss: 0.3317\n",
      "Epoch 12/40\n",
      "938/938 [==============================] - 437s 466ms/step - loss: 0.1005 - val_loss: 0.3480\n",
      "Epoch 13/40\n",
      "938/938 [==============================] - 434s 463ms/step - loss: 0.0922 - val_loss: 0.3614\n",
      "Epoch 14/40\n",
      "938/938 [==============================] - 448s 477ms/step - loss: 0.0836 - val_loss: 0.3591\n",
      "Epoch 15/40\n",
      "938/938 [==============================] - 441s 471ms/step - loss: 0.0766 - val_loss: 0.3732\n",
      "Epoch 16/40\n",
      "938/938 [==============================] - 435s 464ms/step - loss: 0.0699 - val_loss: 0.3819\n",
      "Epoch 17/40\n",
      "938/938 [==============================] - 436s 464ms/step - loss: 0.0639 - val_loss: 0.3870\n",
      "Epoch 18/40\n",
      "938/938 [==============================] - 446s 475ms/step - loss: 0.0574 - val_loss: 0.3910\n",
      "Epoch 19/40\n",
      "938/938 [==============================] - 446s 475ms/step - loss: 0.0526 - val_loss: 0.3987\n",
      "Epoch 20/40\n",
      "938/938 [==============================] - 453s 483ms/step - loss: 0.0477 - val_loss: 0.4040\n",
      "Epoch 21/40\n",
      "938/938 [==============================] - 444s 474ms/step - loss: 0.0423 - val_loss: 0.4030\n",
      "Epoch 22/40\n",
      "938/938 [==============================] - 449s 479ms/step - loss: 0.0381 - val_loss: 0.4127\n",
      "Epoch 23/40\n",
      "938/938 [==============================] - 445s 475ms/step - loss: 0.0345 - val_loss: 0.4126\n",
      "Epoch 24/40\n",
      "938/938 [==============================] - 448s 477ms/step - loss: 0.0304 - val_loss: 0.4298\n",
      "Epoch 25/40\n",
      "938/938 [==============================] - 453s 483ms/step - loss: 0.0272 - val_loss: 0.4211\n",
      "Epoch 26/40\n",
      "938/938 [==============================] - 444s 473ms/step - loss: 0.0248 - val_loss: 0.4235\n",
      "Epoch 27/40\n",
      "938/938 [==============================] - 437s 465ms/step - loss: 0.0226 - val_loss: 0.4259\n",
      "Epoch 28/40\n",
      "938/938 [==============================] - 436s 465ms/step - loss: 0.0202 - val_loss: 0.4267\n",
      "Epoch 29/40\n",
      "938/938 [==============================] - 436s 465ms/step - loss: 0.0181 - val_loss: 0.4276\n",
      "Epoch 30/40\n",
      "938/938 [==============================] - 436s 464ms/step - loss: 0.0166 - val_loss: 0.4213\n",
      "Epoch 31/40\n",
      "938/938 [==============================] - 435s 464ms/step - loss: 0.0154 - val_loss: 0.4310\n",
      "Epoch 32/40\n",
      "938/938 [==============================] - 434s 463ms/step - loss: 0.0140 - val_loss: 0.4177\n",
      "Epoch 33/40\n",
      "938/938 [==============================] - 437s 466ms/step - loss: 0.0148 - val_loss: 0.4164\n",
      "Epoch 34/40\n",
      "938/938 [==============================] - 435s 464ms/step - loss: 0.0124 - val_loss: 0.4187\n",
      "Epoch 35/40\n",
      "938/938 [==============================] - 437s 466ms/step - loss: 0.0107 - val_loss: 0.4236\n",
      "Epoch 36/40\n",
      "938/938 [==============================] - 437s 466ms/step - loss: 0.0102 - val_loss: 0.4158\n",
      "Epoch 37/40\n",
      "938/938 [==============================] - 438s 467ms/step - loss: 0.0103 - val_loss: 0.4105\n",
      "Epoch 38/40\n",
      "938/938 [==============================] - 438s 467ms/step - loss: 0.0099 - val_loss: 0.4203\n",
      "Epoch 39/40\n",
      "938/938 [==============================] - 436s 465ms/step - loss: 0.0093 - val_loss: 0.4091\n",
      "Epoch 40/40\n",
      "938/938 [==============================] - 437s 465ms/step - loss: 0.0090 - val_loss: 0.4168\n"
     ]
    }
   ],
   "source": [
    "model_exists = False\n",
    "\n",
    "# If the model didn't exist train it\n",
    "if not model_exists:\n",
    "    model.fit(X_train, y_train, validation_data=(X_test, y_test), epochs=40)\n",
    "    # Save the trained model\n",
    "    model.save('/kaggle/working/model.h5')\n",
    "\n",
    "else:\n",
    "# Load the existing model\n",
    "    model = load_model('/kaggle/working/model.h5')"
   ]
  },
  {
   "cell_type": "code",
   "execution_count": 47,
   "id": "b511b93b",
   "metadata": {
    "execution": {
     "iopub.execute_input": "2023-10-06T01:28:44.960323Z",
     "iopub.status.busy": "2023-10-06T01:28:44.959550Z",
     "iopub.status.idle": "2023-10-06T01:28:44.965591Z",
     "shell.execute_reply": "2023-10-06T01:28:44.964807Z"
    },
    "papermill": {
     "duration": 2.21528,
     "end_time": "2023-10-06T01:28:44.967438",
     "exception": false,
     "start_time": "2023-10-06T01:28:42.752158",
     "status": "completed"
    },
    "tags": []
   },
   "outputs": [
    {
     "name": "stdout",
     "output_type": "stream",
     "text": [
      "(30000, 522)\n",
      "(7500, 522)\n",
      "(30000,)\n",
      "(7500,)\n"
     ]
    }
   ],
   "source": [
    "print(X_train.shape)\n",
    "print(X_test.shape)\n",
    "print(y_train.shape)\n",
    "print(y_test.shape)"
   ]
  },
  {
   "cell_type": "code",
   "execution_count": 48,
   "id": "99212038",
   "metadata": {
    "execution": {
     "iopub.execute_input": "2023-10-06T01:28:49.509093Z",
     "iopub.status.busy": "2023-10-06T01:28:49.508384Z",
     "iopub.status.idle": "2023-10-06T01:29:18.827147Z",
     "shell.execute_reply": "2023-10-06T01:29:18.825950Z"
    },
    "papermill": {
     "duration": 31.632248,
     "end_time": "2023-10-06T01:29:18.829718",
     "exception": false,
     "start_time": "2023-10-06T01:28:47.197470",
     "status": "completed"
    },
    "tags": []
   },
   "outputs": [
    {
     "name": "stdout",
     "output_type": "stream",
     "text": [
      "235/235 [==============================] - 29s 122ms/step\n",
      " Training data scores\n",
      " --------------------\n",
      " RMSE: 0.6455955606082737\n",
      " MAE: 0.49502739505767823\n",
      " MSE: 0.41679362787711116\n",
      " R2: 0.15271654655184497\n"
     ]
    }
   ],
   "source": [
    "# Make predictions on the test set\n",
    "y_pred = model.predict(X_test)\n",
    "\n",
    "# Calculate the error of the predictions\n",
    "print(\" Training data scores\\n\",\"--\"*10)\n",
    "print(\" RMSE:\", np.sqrt(mean_squared_error(y_test,y_pred)))\n",
    "print(\" MAE:\", mean_absolute_error(y_test,y_pred))\n",
    "print(\" MSE:\", mean_squared_error(y_test,y_pred))\n",
    "print(\" R2:\", r2_score(y_test,y_pred))"
   ]
  },
  {
   "cell_type": "markdown",
   "id": "bc72c1ec",
   "metadata": {
    "papermill": {
     "duration": 2.248596,
     "end_time": "2023-10-06T01:29:23.185465",
     "exception": false,
     "start_time": "2023-10-06T01:29:20.936869",
     "status": "completed"
    },
    "tags": []
   },
   "source": [
    "# Model Evaluation"
   ]
  },
  {
   "cell_type": "code",
   "execution_count": 49,
   "id": "1ab07702",
   "metadata": {
    "execution": {
     "iopub.execute_input": "2023-10-06T01:29:27.631650Z",
     "iopub.status.busy": "2023-10-06T01:29:27.631307Z",
     "iopub.status.idle": "2023-10-06T01:29:27.954441Z",
     "shell.execute_reply": "2023-10-06T01:29:27.953327Z"
    },
    "papermill": {
     "duration": 2.545069,
     "end_time": "2023-10-06T01:29:27.956618",
     "exception": false,
     "start_time": "2023-10-06T01:29:25.411549",
     "status": "completed"
    },
    "tags": []
   },
   "outputs": [
    {
     "data": {
      "image/png": "[encoded data removed]",
      "text/plain": [
       "<Figure size 640x480 with 1 Axes>"
      ]
     },
     "metadata": {},
     "output_type": "display_data"
    }
   ],
   "source": [
    "error_rec = {\n",
    "    \"randomforest\": {\n",
    "          'RMSE': 0.6892106634681464,\n",
    "          'MAE': 0.5103883428069858,\n",
    "          'MSE': 0.4750113386382026,\n",
    "          'R2': 0.03436804089751411,\n",
    "    },\n",
    "    \"lasso\": {\n",
    "          'RMSE': 0.6975111592936514,\n",
    "          'MAE': 0.520149044781461,\n",
    "          'MSE': 0.4865218173391735,\n",
    "          'R2': 0.010968839248789441,\n",
    "    },\n",
    "    \"LSTM\": {\n",
    "          'RMSE': 0.6506458109695253,\n",
    "          'MAE': 0.4982813061952591,\n",
    "          'MSE': 0.42333997133219126,\n",
    "          'R2': 0.13940874115585322,\n",
    "    }\n",
    "}\n",
    "pd.DataFrame(error_rec).plot(kind=\"bar\", \n",
    "             color=[\n",
    "                 sns.color_palette(\"pastel\")[0], \n",
    "                 sns.color_palette(\"pastel\")[1], \n",
    "                 sns.color_palette(\"pastel\")[2]]);"
   ]
  }
 ],
 "metadata": {
  "kernelspec": {
   "display_name": "Python 3",
   "language": "python",
   "name": "python3"
  },
  "language_info": {
   "codemirror_mode": {
    "name": "ipython",
    "version": 3
   },
   "file_extension": ".py",
   "mimetype": "text/x-python",
   "name": "python",
   "nbconvert_exporter": "python",
   "pygments_lexer": "ipython3",
   "version": "3.10.12"
  },
  "papermill": {
   "default_parameters": {},
   "duration": 19443.377379,
   "end_time": "2023-10-06T01:29:34.088032",
   "environment_variables": {},
   "exception": null,
   "input_path": "__notebook__.ipynb",
   "output_path": "__notebook__.ipynb",
   "parameters": {},
   "start_time": "2023-10-05T20:05:30.710653",
   "version": "2.4.0"
  }
 },
 "nbformat": 4,
 "nbformat_minor": 5
}
